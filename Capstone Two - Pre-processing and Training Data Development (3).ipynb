{
 "cells": [
  {
   "cell_type": "markdown",
   "id": "8356d8c1",
   "metadata": {},
   "source": [
    "# Pre-Processing and Training Data Development\n"
   ]
  },
  {
   "cell_type": "markdown",
   "id": "5e09b0f8",
   "metadata": {},
   "source": [
    "Purpose:\n",
    "    Now that I’ve obtained, cleaned, and wrangled my dataset into a form that's ready\n",
    "for analysis, it’s time to perform exploratory data analysis (EDA). I will Keep in mind that the goal of the EDA work is to\n",
    "get familiar with the features in your dataset, investigate the relationships between\n",
    "features, and generally understand the core characteristics of my dataset. Be creative\n",
    "and think about interesting figures and plots you can create to help deepen my\n",
    "understanding of the data."
   ]
  },
  {
   "cell_type": "markdown",
   "id": "6d4c05c7",
   "metadata": {},
   "source": [
    "Goal: Create a cleaned development dataset you can use to complete the\n",
    "modeling step of your project. \n",
    "\n",
    "With this project I Created a dummy indicator features for categorical variables "
   ]
  },
  {
   "cell_type": "markdown",
   "id": "3d27a338",
   "metadata": {},
   "source": [
    "Steps I will be taking in the process I will be:\n",
    "- Creating dummy or indicator features for categorical variables\n",
    "- Standardizing the magnitude of numeric features using a scaler\n",
    " \n",
    " I will be answering the questions 'Does my data set have any categorical data, such as Gender or day of the week?\n",
    "Do my features have data values that range from 0 - 100 or 0-1 or both and more?'"
   ]
  },
  {
   "cell_type": "markdown",
   "id": "1d2ef2c9",
   "metadata": {},
   "source": [
    "Importing the modules I will be using"
   ]
  },
  {
   "cell_type": "code",
   "execution_count": 56,
   "id": "79879ee1",
   "metadata": {},
   "outputs": [],
   "source": [
    "import numpy as np\n",
    "import pandas as pd\n",
    "import seaborn as sns\n",
    "import matplotlib.pyplot as plt\n",
    "%matplotlib inline\n",
    "from sklearn.model_selection import train_test_split\n",
    "import scipy\n",
    "import pandas.util.testing as tm"
   ]
  },
  {
   "cell_type": "markdown",
   "id": "dd3bfbf3",
   "metadata": {},
   "source": [
    "Importing the dataset"
   ]
  },
  {
   "cell_type": "code",
   "execution_count": 57,
   "id": "b10a21fe",
   "metadata": {},
   "outputs": [
    {
     "data": {
      "text/html": [
       "<div>\n",
       "<style scoped>\n",
       "    .dataframe tbody tr th:only-of-type {\n",
       "        vertical-align: middle;\n",
       "    }\n",
       "\n",
       "    .dataframe tbody tr th {\n",
       "        vertical-align: top;\n",
       "    }\n",
       "\n",
       "    .dataframe thead th {\n",
       "        text-align: right;\n",
       "    }\n",
       "</style>\n",
       "<table border=\"1\" class=\"dataframe\">\n",
       "  <thead>\n",
       "    <tr style=\"text-align: right;\">\n",
       "      <th></th>\n",
       "      <th>Unnamed: 0</th>\n",
       "      <th>Date</th>\n",
       "      <th>Startup Name</th>\n",
       "      <th>Industry</th>\n",
       "      <th>Sub-Vertical</th>\n",
       "      <th>State</th>\n",
       "      <th>Investors’ Name</th>\n",
       "      <th>Investment Type</th>\n",
       "      <th>Amount (In USD)</th>\n",
       "      <th>Rank</th>\n",
       "      <th>GDP</th>\n",
       "    </tr>\n",
       "  </thead>\n",
       "  <tbody>\n",
       "    <tr>\n",
       "      <th>0</th>\n",
       "      <td>0</td>\n",
       "      <td>2017-01-30</td>\n",
       "      <td>Cloudrino</td>\n",
       "      <td>Technology</td>\n",
       "      <td>Cloud based Virtual Servers</td>\n",
       "      <td>Delhi</td>\n",
       "      <td>The Ten Minute Million</td>\n",
       "      <td>Seed Funding</td>\n",
       "      <td>22500</td>\n",
       "      <td>12</td>\n",
       "      <td>117.703</td>\n",
       "    </tr>\n",
       "    <tr>\n",
       "      <th>1</th>\n",
       "      <td>1</td>\n",
       "      <td>2016-10-14</td>\n",
       "      <td>Newspatrolling</td>\n",
       "      <td>Consumer Internet</td>\n",
       "      <td>Online News portal</td>\n",
       "      <td>Delhi</td>\n",
       "      <td>Undisclosed</td>\n",
       "      <td>Seed Funding</td>\n",
       "      <td>25000</td>\n",
       "      <td>12</td>\n",
       "      <td>117.703</td>\n",
       "    </tr>\n",
       "    <tr>\n",
       "      <th>2</th>\n",
       "      <td>2</td>\n",
       "      <td>2017-03-07</td>\n",
       "      <td>Book Servicing</td>\n",
       "      <td>Consumer Internet</td>\n",
       "      <td>Online Vehicle Services Booking platform</td>\n",
       "      <td>Delhi</td>\n",
       "      <td>National Science and Technology Entrepreneursh...</td>\n",
       "      <td>Seed Funding</td>\n",
       "      <td>30000</td>\n",
       "      <td>12</td>\n",
       "      <td>117.703</td>\n",
       "    </tr>\n",
       "    <tr>\n",
       "      <th>3</th>\n",
       "      <td>3</td>\n",
       "      <td>2016-03-19</td>\n",
       "      <td>goSporto</td>\n",
       "      <td>Consumer Internet</td>\n",
       "      <td>Online Sports discovery and booking platform</td>\n",
       "      <td>Delhi</td>\n",
       "      <td>Naveen Gupta</td>\n",
       "      <td>Seed Funding</td>\n",
       "      <td>30000</td>\n",
       "      <td>12</td>\n",
       "      <td>117.703</td>\n",
       "    </tr>\n",
       "    <tr>\n",
       "      <th>4</th>\n",
       "      <td>4</td>\n",
       "      <td>2016-02-04</td>\n",
       "      <td>Perfumery</td>\n",
       "      <td>ECommerce</td>\n",
       "      <td>Fragrances &amp; Perfume eTailer</td>\n",
       "      <td>Delhi</td>\n",
       "      <td>Oranda Global &amp; Others</td>\n",
       "      <td>Seed Funding</td>\n",
       "      <td>30000</td>\n",
       "      <td>12</td>\n",
       "      <td>117.703</td>\n",
       "    </tr>\n",
       "    <tr>\n",
       "      <th>...</th>\n",
       "      <td>...</td>\n",
       "      <td>...</td>\n",
       "      <td>...</td>\n",
       "      <td>...</td>\n",
       "      <td>...</td>\n",
       "      <td>...</td>\n",
       "      <td>...</td>\n",
       "      <td>...</td>\n",
       "      <td>...</td>\n",
       "      <td>...</td>\n",
       "      <td>...</td>\n",
       "    </tr>\n",
       "    <tr>\n",
       "      <th>490</th>\n",
       "      <td>490</td>\n",
       "      <td>2016-11-04</td>\n",
       "      <td>Browntape</td>\n",
       "      <td>Technology</td>\n",
       "      <td>cloud-based software solutions company</td>\n",
       "      <td>Goa</td>\n",
       "      <td>Gati Ltd</td>\n",
       "      <td>Private Equity</td>\n",
       "      <td>0</td>\n",
       "      <td>23</td>\n",
       "      <td>11.115</td>\n",
       "    </tr>\n",
       "    <tr>\n",
       "      <th>491</th>\n",
       "      <td>491</td>\n",
       "      <td>2015-05-12</td>\n",
       "      <td>Mobiefit</td>\n",
       "      <td>Mobile Fitness App</td>\n",
       "      <td>Mobile Fitness App</td>\n",
       "      <td>Goa</td>\n",
       "      <td>Prototyze</td>\n",
       "      <td>Seed Funding</td>\n",
       "      <td>0</td>\n",
       "      <td>23</td>\n",
       "      <td>11.115</td>\n",
       "    </tr>\n",
       "    <tr>\n",
       "      <th>492</th>\n",
       "      <td>492</td>\n",
       "      <td>2019-06-10</td>\n",
       "      <td>OkCredit</td>\n",
       "      <td>FinTech</td>\n",
       "      <td>Financial Services</td>\n",
       "      <td>Haryana</td>\n",
       "      <td>Tiger Global Management</td>\n",
       "      <td>Series A</td>\n",
       "      <td>15500000</td>\n",
       "      <td>13</td>\n",
       "      <td>111.519</td>\n",
       "    </tr>\n",
       "    <tr>\n",
       "      <th>493</th>\n",
       "      <td>493</td>\n",
       "      <td>2019-06-08</td>\n",
       "      <td>Vogo Automotive Pvt. Ltd.</td>\n",
       "      <td>Transportation</td>\n",
       "      <td>Dockless Scooter Rental Company</td>\n",
       "      <td>Karnataka</td>\n",
       "      <td>Alteria Capital</td>\n",
       "      <td>Debt Funding</td>\n",
       "      <td>3584000</td>\n",
       "      <td>5</td>\n",
       "      <td>226.806</td>\n",
       "    </tr>\n",
       "    <tr>\n",
       "      <th>494</th>\n",
       "      <td>494</td>\n",
       "      <td>2017-12-21</td>\n",
       "      <td>IGP.com</td>\n",
       "      <td>ECommerce</td>\n",
       "      <td>Online Gifting Platform</td>\n",
       "      <td>Uttar Pradesh</td>\n",
       "      <td>Venture Catalysts</td>\n",
       "      <td>Private Equity</td>\n",
       "      <td>0</td>\n",
       "      <td>3</td>\n",
       "      <td>240.726</td>\n",
       "    </tr>\n",
       "  </tbody>\n",
       "</table>\n",
       "<p>491 rows × 11 columns</p>\n",
       "</div>"
      ],
      "text/plain": [
       "     Unnamed: 0       Date               Startup Name            Industry  \\\n",
       "0             0 2017-01-30                  Cloudrino          Technology   \n",
       "1             1 2016-10-14             Newspatrolling   Consumer Internet   \n",
       "2             2 2017-03-07             Book Servicing   Consumer Internet   \n",
       "3             3 2016-03-19                   goSporto   Consumer Internet   \n",
       "4             4 2016-02-04                  Perfumery           ECommerce   \n",
       "..          ...        ...                        ...                 ...   \n",
       "490         490 2016-11-04                  Browntape          Technology   \n",
       "491         491 2015-05-12                   Mobiefit  Mobile Fitness App   \n",
       "492         492 2019-06-10                   OkCredit             FinTech   \n",
       "493         493 2019-06-08  Vogo Automotive Pvt. Ltd.      Transportation   \n",
       "494         494 2017-12-21                    IGP.com           ECommerce   \n",
       "\n",
       "                                     Sub-Vertical          State  \\\n",
       "0                     Cloud based Virtual Servers          Delhi   \n",
       "1                              Online News portal          Delhi   \n",
       "2        Online Vehicle Services Booking platform          Delhi   \n",
       "3    Online Sports discovery and booking platform          Delhi   \n",
       "4                    Fragrances & Perfume eTailer          Delhi   \n",
       "..                                            ...            ...   \n",
       "490        cloud-based software solutions company            Goa   \n",
       "491                            Mobile Fitness App            Goa   \n",
       "492                            Financial Services        Haryana   \n",
       "493               Dockless Scooter Rental Company      Karnataka   \n",
       "494                       Online Gifting Platform  Uttar Pradesh   \n",
       "\n",
       "                                       Investors’ Name Investment Type  \\\n",
       "0                               The Ten Minute Million    Seed Funding   \n",
       "1                                          Undisclosed    Seed Funding   \n",
       "2    National Science and Technology Entrepreneursh...    Seed Funding   \n",
       "3                                         Naveen Gupta    Seed Funding   \n",
       "4                               Oranda Global & Others    Seed Funding   \n",
       "..                                                 ...             ...   \n",
       "490                                           Gati Ltd  Private Equity   \n",
       "491                                          Prototyze    Seed Funding   \n",
       "492                            Tiger Global Management        Series A   \n",
       "493                                    Alteria Capital    Debt Funding   \n",
       "494                                  Venture Catalysts  Private Equity   \n",
       "\n",
       "     Amount (In USD)  Rank      GDP  \n",
       "0              22500    12  117.703  \n",
       "1              25000    12  117.703  \n",
       "2              30000    12  117.703  \n",
       "3              30000    12  117.703  \n",
       "4              30000    12  117.703  \n",
       "..               ...   ...      ...  \n",
       "490                0    23   11.115  \n",
       "491                0    23   11.115  \n",
       "492         15500000    13  111.519  \n",
       "493          3584000     5  226.806  \n",
       "494                0     3  240.726  \n",
       "\n",
       "[491 rows x 11 columns]"
      ]
     },
     "execution_count": 57,
     "metadata": {},
     "output_type": "execute_result"
    }
   ],
   "source": [
    "\n",
    "df = pd.read_excel(r\"EDA_DATA.xlsx\")\n",
    "df.dropna(axis=0, how='any', thresh=None, subset=None, inplace=False)"
   ]
  },
  {
   "cell_type": "code",
   "execution_count": 58,
   "id": "0af3d5e4",
   "metadata": {},
   "outputs": [
    {
     "data": {
      "text/plain": [
       "(495, 11)"
      ]
     },
     "execution_count": 58,
     "metadata": {},
     "output_type": "execute_result"
    }
   ],
   "source": [
    "nrow, ncol = df.shape\n",
    "nrow, ncol"
   ]
  },
  {
   "cell_type": "code",
   "execution_count": 59,
   "id": "1afa9fa3",
   "metadata": {},
   "outputs": [
    {
     "data": {
      "text/html": [
       "<div>\n",
       "<style scoped>\n",
       "    .dataframe tbody tr th:only-of-type {\n",
       "        vertical-align: middle;\n",
       "    }\n",
       "\n",
       "    .dataframe tbody tr th {\n",
       "        vertical-align: top;\n",
       "    }\n",
       "\n",
       "    .dataframe thead th {\n",
       "        text-align: right;\n",
       "    }\n",
       "</style>\n",
       "<table border=\"1\" class=\"dataframe\">\n",
       "  <thead>\n",
       "    <tr style=\"text-align: right;\">\n",
       "      <th></th>\n",
       "      <th>Unnamed: 0</th>\n",
       "      <th>Date</th>\n",
       "      <th>Startup Name</th>\n",
       "      <th>Industry</th>\n",
       "      <th>Sub-Vertical</th>\n",
       "      <th>State</th>\n",
       "      <th>Investors’ Name</th>\n",
       "      <th>Investment Type</th>\n",
       "      <th>Amount (In USD)</th>\n",
       "      <th>Rank</th>\n",
       "      <th>GDP</th>\n",
       "    </tr>\n",
       "  </thead>\n",
       "  <tbody>\n",
       "    <tr>\n",
       "      <th>0</th>\n",
       "      <td>0</td>\n",
       "      <td>2017-01-30</td>\n",
       "      <td>Cloudrino</td>\n",
       "      <td>Technology</td>\n",
       "      <td>Cloud based Virtual Servers</td>\n",
       "      <td>Delhi</td>\n",
       "      <td>The Ten Minute Million</td>\n",
       "      <td>Seed Funding</td>\n",
       "      <td>22500</td>\n",
       "      <td>12</td>\n",
       "      <td>117.703</td>\n",
       "    </tr>\n",
       "    <tr>\n",
       "      <th>1</th>\n",
       "      <td>1</td>\n",
       "      <td>2016-10-14</td>\n",
       "      <td>Newspatrolling</td>\n",
       "      <td>Consumer Internet</td>\n",
       "      <td>Online News portal</td>\n",
       "      <td>Delhi</td>\n",
       "      <td>Undisclosed</td>\n",
       "      <td>Seed Funding</td>\n",
       "      <td>25000</td>\n",
       "      <td>12</td>\n",
       "      <td>117.703</td>\n",
       "    </tr>\n",
       "    <tr>\n",
       "      <th>2</th>\n",
       "      <td>2</td>\n",
       "      <td>2017-03-07</td>\n",
       "      <td>Book Servicing</td>\n",
       "      <td>Consumer Internet</td>\n",
       "      <td>Online Vehicle Services Booking platform</td>\n",
       "      <td>Delhi</td>\n",
       "      <td>National Science and Technology Entrepreneursh...</td>\n",
       "      <td>Seed Funding</td>\n",
       "      <td>30000</td>\n",
       "      <td>12</td>\n",
       "      <td>117.703</td>\n",
       "    </tr>\n",
       "  </tbody>\n",
       "</table>\n",
       "</div>"
      ],
      "text/plain": [
       "   Unnamed: 0       Date    Startup Name           Industry  \\\n",
       "0           0 2017-01-30       Cloudrino         Technology   \n",
       "1           1 2016-10-14  Newspatrolling  Consumer Internet   \n",
       "2           2 2017-03-07  Book Servicing  Consumer Internet   \n",
       "\n",
       "                               Sub-Vertical  State  \\\n",
       "0               Cloud based Virtual Servers  Delhi   \n",
       "1                        Online News portal  Delhi   \n",
       "2  Online Vehicle Services Booking platform  Delhi   \n",
       "\n",
       "                                     Investors’ Name Investment Type  \\\n",
       "0                             The Ten Minute Million    Seed Funding   \n",
       "1                                        Undisclosed    Seed Funding   \n",
       "2  National Science and Technology Entrepreneursh...    Seed Funding   \n",
       "\n",
       "   Amount (In USD)  Rank      GDP  \n",
       "0            22500    12  117.703  \n",
       "1            25000    12  117.703  \n",
       "2            30000    12  117.703  "
      ]
     },
     "execution_count": 59,
     "metadata": {},
     "output_type": "execute_result"
    }
   ],
   "source": [
    "df.head(3)"
   ]
  },
  {
   "cell_type": "code",
   "execution_count": 60,
   "id": "8f588876",
   "metadata": {},
   "outputs": [],
   "source": [
    "sns.set_style(style = 'whitegrid')\n"
   ]
  },
  {
   "cell_type": "code",
   "execution_count": 61,
   "id": "e469df77",
   "metadata": {},
   "outputs": [
    {
     "name": "stdout",
     "output_type": "stream",
     "text": [
      "<class 'pandas.core.frame.DataFrame'>\n",
      "RangeIndex: 495 entries, 0 to 494\n",
      "Data columns (total 11 columns):\n",
      " #   Column           Non-Null Count  Dtype         \n",
      "---  ------           --------------  -----         \n",
      " 0   Unnamed: 0       495 non-null    int64         \n",
      " 1   Date             495 non-null    datetime64[ns]\n",
      " 2   Startup Name     495 non-null    object        \n",
      " 3   Industry         495 non-null    object        \n",
      " 4   Sub-Vertical     495 non-null    object        \n",
      " 5   State            495 non-null    object        \n",
      " 6   Investors’ Name  491 non-null    object        \n",
      " 7   Investment Type  495 non-null    object        \n",
      " 8   Amount (In USD)  495 non-null    int64         \n",
      " 9   Rank             495 non-null    int64         \n",
      " 10  GDP              495 non-null    float64       \n",
      "dtypes: datetime64[ns](1), float64(1), int64(3), object(6)\n",
      "memory usage: 42.7+ KB\n"
     ]
    }
   ],
   "source": [
    "df.info()"
   ]
  },
  {
   "cell_type": "markdown",
   "id": "464c90ac",
   "metadata": {},
   "source": [
    "Now making sure I have the variables all sorted that I will be using in this project - GDP and Amount in USD. I will be removing the other variables for now"
   ]
  },
  {
   "cell_type": "code",
   "execution_count": 62,
   "id": "8402fcd5",
   "metadata": {},
   "outputs": [
    {
     "data": {
      "text/plain": [
       "False"
      ]
     },
     "execution_count": 62,
     "metadata": {},
     "output_type": "execute_result"
    }
   ],
   "source": [
    "df['Amount (In USD)'].isnull().values.any()"
   ]
  },
  {
   "cell_type": "code",
   "execution_count": 63,
   "id": "478f088f",
   "metadata": {},
   "outputs": [],
   "source": [
    "df['Amount (In USD)'] = df['Amount (In USD)'].replace('', 0)"
   ]
  },
  {
   "cell_type": "code",
   "execution_count": 64,
   "id": "a0ad1c06",
   "metadata": {},
   "outputs": [],
   "source": [
    "df['Amount (In USD)'] = df['Amount (In USD)'].replace('undisclosed', 0)"
   ]
  },
  {
   "cell_type": "code",
   "execution_count": 65,
   "id": "a0650cdd",
   "metadata": {},
   "outputs": [],
   "source": [
    "df['Amount (In USD)'] = df['Amount (In USD)'].fillna(0)"
   ]
  },
  {
   "cell_type": "code",
   "execution_count": 66,
   "id": "e1e5fd9a",
   "metadata": {},
   "outputs": [
    {
     "data": {
      "text/plain": [
       "0         22500\n",
       "1         25000\n",
       "2         30000\n",
       "3         30000\n",
       "4         30000\n",
       "         ...   \n",
       "490           0\n",
       "491           0\n",
       "492    15500000\n",
       "493     3584000\n",
       "494           0\n",
       "Name: Amount (In USD), Length: 495, dtype: int64"
      ]
     },
     "execution_count": 66,
     "metadata": {},
     "output_type": "execute_result"
    }
   ],
   "source": [
    "df['Amount (In USD)']"
   ]
  },
  {
   "cell_type": "code",
   "execution_count": 67,
   "id": "8958a6fb",
   "metadata": {},
   "outputs": [],
   "source": [
    "df['Amount (In USD)']  = df['Amount (In USD)'].astype('int')"
   ]
  },
  {
   "cell_type": "code",
   "execution_count": 68,
   "id": "b346dcb2",
   "metadata": {},
   "outputs": [],
   "source": [
    "df.to_excel(r\"EDA_DATA.xlsx\")"
   ]
  },
  {
   "cell_type": "code",
   "execution_count": 69,
   "id": "4102b4ba",
   "metadata": {},
   "outputs": [],
   "source": [
    "del df['Startup Name']"
   ]
  },
  {
   "cell_type": "code",
   "execution_count": 70,
   "id": "53e5e078",
   "metadata": {},
   "outputs": [],
   "source": [
    "del df['Industry']"
   ]
  },
  {
   "cell_type": "code",
   "execution_count": 71,
   "id": "692487a8",
   "metadata": {},
   "outputs": [],
   "source": [
    "del df['Sub-Vertical']"
   ]
  },
  {
   "cell_type": "code",
   "execution_count": 72,
   "id": "dffda79c",
   "metadata": {},
   "outputs": [],
   "source": [
    "del df['Investment Type']"
   ]
  },
  {
   "cell_type": "code",
   "execution_count": 73,
   "id": "551c38a5",
   "metadata": {},
   "outputs": [],
   "source": [
    "del df['Rank']"
   ]
  },
  {
   "cell_type": "code",
   "execution_count": 74,
   "id": "2e1924ad",
   "metadata": {},
   "outputs": [],
   "source": [
    "del df['Date']"
   ]
  },
  {
   "cell_type": "code",
   "execution_count": 75,
   "id": "36b57e1e",
   "metadata": {},
   "outputs": [],
   "source": [
    "del df['State']"
   ]
  },
  {
   "cell_type": "code",
   "execution_count": 76,
   "id": "3a2464d3",
   "metadata": {},
   "outputs": [],
   "source": [
    "del df['Investors’ Name']"
   ]
  },
  {
   "cell_type": "code",
   "execution_count": 77,
   "id": "fbc00c86",
   "metadata": {},
   "outputs": [
    {
     "name": "stdout",
     "output_type": "stream",
     "text": [
      "<class 'pandas.core.frame.DataFrame'>\n",
      "RangeIndex: 495 entries, 0 to 494\n",
      "Data columns (total 3 columns):\n",
      " #   Column           Non-Null Count  Dtype  \n",
      "---  ------           --------------  -----  \n",
      " 0   Unnamed: 0       495 non-null    int64  \n",
      " 1   Amount (In USD)  495 non-null    int32  \n",
      " 2   GDP              495 non-null    float64\n",
      "dtypes: float64(1), int32(1), int64(1)\n",
      "memory usage: 9.8 KB\n"
     ]
    }
   ],
   "source": [
    "df.info()"
   ]
  },
  {
   "cell_type": "markdown",
   "id": "a2cfc6ee",
   "metadata": {},
   "source": [
    "Split the dataset into Independent(X) and Dependent(y) Variables"
   ]
  },
  {
   "cell_type": "code",
   "execution_count": 78,
   "id": "3f3b15be",
   "metadata": {},
   "outputs": [],
   "source": [
    "x = df.iloc[:, 0:1].values\n",
    "y = df.iloc[:, -1].values"
   ]
  },
  {
   "cell_type": "code",
   "execution_count": 79,
   "id": "95f1cdd2",
   "metadata": {},
   "outputs": [
    {
     "name": "stdout",
     "output_type": "stream",
     "text": [
      "[10]\n"
     ]
    }
   ],
   "source": [
    "print(x[10])"
   ]
  },
  {
   "cell_type": "code",
   "execution_count": 80,
   "id": "b649776a",
   "metadata": {},
   "outputs": [
    {
     "name": "stdout",
     "output_type": "stream",
     "text": [
      "117.703\n"
     ]
    }
   ],
   "source": [
    "print(y[10])"
   ]
  },
  {
   "cell_type": "markdown",
   "id": "2af83585",
   "metadata": {},
   "source": [
    "Divide the complete dataset into training and testing data"
   ]
  },
  {
   "cell_type": "code",
   "execution_count": 81,
   "id": "78ed0279",
   "metadata": {},
   "outputs": [],
   "source": [
    "X_train, X_test, y_train, y_test = train_test_split(x, y, test_size = 0.2, random_state = 0)"
   ]
  },
  {
   "cell_type": "markdown",
   "id": "97ee6c84",
   "metadata": {},
   "source": [
    "Implement Classifier based on Simple Linear Regression"
   ]
  },
  {
   "cell_type": "code",
   "execution_count": 82,
   "id": "d4e1666c",
   "metadata": {},
   "outputs": [
    {
     "data": {
      "text/plain": [
       "LinearRegression()"
      ]
     },
     "execution_count": 82,
     "metadata": {},
     "output_type": "execute_result"
    }
   ],
   "source": [
    "from sklearn.linear_model import LinearRegression\n",
    "model = LinearRegression()\n",
    "model.fit(X_train, y_train)"
   ]
  },
  {
   "cell_type": "code",
   "execution_count": 83,
   "id": "2dfdf5be",
   "metadata": {},
   "outputs": [
    {
     "data": {
      "text/plain": [
       "array([121.10017941, 112.59824081, 111.09484923, 102.85211607,\n",
       "       108.34727151, 124.98826109, 109.38409329, 100.67479033,\n",
       "       117.52314427, 117.8341908 , 113.27217496, 112.80560516,\n",
       "       105.70337597, 110.78380269, 116.9010512 , 108.81384131,\n",
       "       101.7634532 , 107.46597299, 117.78234971, 123.84775713,\n",
       "       115.13845417, 106.89572101, 113.32401605, 120.16703981,\n",
       "       123.43302842, 103.21500369, 124.67721455, 106.84387992,\n",
       "       120.78913287, 113.68690368, 105.80705814, 119.64862892,\n",
       "       119.33758238, 115.86422942, 106.53283339, 107.25860864,\n",
       "       109.64329873, 102.64475171, 107.56965517, 113.42769823,\n",
       "       109.07304675, 123.38118733, 105.02944181, 114.30899675,\n",
       "       121.82595466, 125.71403633, 114.72372546, 104.87391854,\n",
       "       104.25182547, 120.47808634, 107.05124428, 116.95289229,\n",
       "       103.47420914, 118.3007606 , 118.92285367, 125.14378435,\n",
       "       108.8656824 , 116.79736902, 114.15347348, 108.13990715,\n",
       "       121.72227248, 111.45773685, 104.45918983, 103.88893785,\n",
       "       110.16170962, 115.60502397, 125.24746653, 104.97760072,\n",
       "       111.71694229, 121.87779574, 118.40444278, 122.39620664,\n",
       "       102.07449973, 108.60647695, 116.69368684, 107.10308537,\n",
       "       112.07982992, 120.58176852, 100.57110815, 110.47275616,\n",
       "       110.21355071, 113.5832215 , 103.68157349, 114.41267892,\n",
       "       108.76200022, 108.91752349, 104.09630221, 117.62682644,\n",
       "       107.82886062, 122.96645861, 114.36083783, 105.0812829 ,\n",
       "       103.94077894, 115.39765962, 116.48632248, 106.4809923 ,\n",
       "       122.86277644, 103.11132151, 122.65541208])"
      ]
     },
     "execution_count": 83,
     "metadata": {},
     "output_type": "execute_result"
    }
   ],
   "source": [
    "predictions = model.predict(X_test)\n",
    "predictions"
   ]
  },
  {
   "cell_type": "code",
   "execution_count": 84,
   "id": "20609743",
   "metadata": {},
   "outputs": [
    {
     "name": "stderr",
     "output_type": "stream",
     "text": [
      "C:\\Users\\ptlon\\Anaconda3\\lib\\site-packages\\seaborn\\distributions.py:2619: FutureWarning: `distplot` is a deprecated function and will be removed in a future version. Please adapt your code to use either `displot` (a figure-level function with similar flexibility) or `histplot` (an axes-level function for histograms).\n",
      "  warnings.warn(msg, FutureWarning)\n"
     ]
    },
    {
     "data": {
      "text/plain": [
       "<AxesSubplot:ylabel='Density'>"
      ]
     },
     "execution_count": 84,
     "metadata": {},
     "output_type": "execute_result"
    },
    {
     "data": {
      "image/png": "[encoded data removed]",
      "text/plain": [
       "<Figure size 432x288 with 1 Axes>"
      ]
     },
     "metadata": {},
     "output_type": "display_data"
    }
   ],
   "source": [
    "sns.distplot(predictions-y_test)"
   ]
  },
  {
   "cell_type": "code",
   "execution_count": 85,
   "id": "d503bade",
   "metadata": {},
   "outputs": [
    {
     "data": {
      "image/png": "[encoded data removed]",
      "text/plain": [
       "<Figure size 432x288 with 1 Axes>"
      ]
     },
     "metadata": {},
     "output_type": "display_data"
    }
   ],
   "source": [
    "plt.scatter(X_train, y_train, color = 'red')\n",
    "plt.plot(X_train, model.predict(X_train), color = 'blue')\n",
    "plt.title('Amount (In USD) vs GDP')\n",
    "plt.xlabel('GDP')\n",
    "plt.ylabel('Amount (In USD)')\n",
    "plt.show()"
   ]
  },
  {
   "cell_type": "markdown",
   "id": "65a5ed7b",
   "metadata": {},
   "source": [
    "Standardize the magnitude of numeric features using a scaler\n"
   ]
  },
  {
   "cell_type": "code",
   "execution_count": 86,
   "id": "0061de1a",
   "metadata": {},
   "outputs": [],
   "source": [
    "from sklearn.preprocessing import StandardScaler\n",
    "sc_X = StandardScaler()\n",
    "sc_Y = StandardScaler()\n",
    "Xs = sc_X.fit_transform(X_test)\n",
    "Ys = np.squeeze(sc_Y.fit_transform(y_test.reshape(-1, 1)))"
   ]
  },
  {
   "cell_type": "code",
   "execution_count": 87,
   "id": "87756fbf",
   "metadata": {},
   "outputs": [
    {
     "data": {
      "text/plain": [
       "LinearRegression()"
      ]
     },
     "execution_count": 87,
     "metadata": {},
     "output_type": "execute_result"
    }
   ],
   "source": [
    "models = LinearRegression()\n",
    "models.fit(Xs, Ys)"
   ]
  },
  {
   "cell_type": "code",
   "execution_count": 88,
   "id": "5860e5fb",
   "metadata": {},
   "outputs": [
    {
     "data": {
      "text/plain": [
       "array([ 0.30157357, -0.00298253, -0.05683697, -0.35210782, -0.15526059,\n",
       "        0.44085228, -0.1181196 , -0.4301039 ,  0.17343716,  0.18457946,\n",
       "        0.02115911,  0.00444566, -0.24997011, -0.06797926,  0.15115257,\n",
       "       -0.13854714, -0.39110586, -0.18683043,  0.18272241,  0.39999719,\n",
       "        0.08801289, -0.20725797,  0.02301616,  0.26814668,  0.38514079,\n",
       "       -0.33910848,  0.42970998, -0.20911502,  0.29043127,  0.0360155 ,\n",
       "       -0.24625601,  0.24957619,  0.23843389,  0.11401158, -0.22025732,\n",
       "       -0.19425862, -0.10883435, -0.35953602, -0.18311633,  0.02673026,\n",
       "       -0.12926189,  0.38328375, -0.27411175,  0.0583001 ,  0.32757226,\n",
       "        0.46685097,  0.07315649, -0.2796829 , -0.30196749,  0.27928898,\n",
       "       -0.20168682,  0.15300962, -0.32982323,  0.2012929 ,  0.2235775 ,\n",
       "        0.44642343, -0.13669009,  0.14743847,  0.05272895, -0.16268878,\n",
       "        0.32385816, -0.04383762, -0.29453929, -0.31496684, -0.09026386,\n",
       "        0.10472633,  0.45013752, -0.2759688 , -0.03455237,  0.32942931,\n",
       "        0.205007  ,  0.34799981, -0.37996357, -0.14597534,  0.14372437,\n",
       "       -0.19982977, -0.02155303,  0.28300308, -0.433818  , -0.07912156,\n",
       "       -0.08840681,  0.03230141, -0.32239503,  0.0620142 , -0.14040419,\n",
       "       -0.13483304, -0.30753864,  0.17715126, -0.17383108,  0.36842735,\n",
       "        0.06015715, -0.2722547 , -0.31310979,  0.09729813,  0.13629617,\n",
       "       -0.22211437,  0.36471325, -0.34282258,  0.35728505])"
      ]
     },
     "execution_count": 88,
     "metadata": {},
     "output_type": "execute_result"
    }
   ],
   "source": [
    "predictionss = models.predict(Xs)\n",
    "predictionss"
   ]
  },
  {
   "cell_type": "code",
   "execution_count": 89,
   "id": "7f2ee09a",
   "metadata": {},
   "outputs": [
    {
     "name": "stderr",
     "output_type": "stream",
     "text": [
      "C:\\Users\\ptlon\\Anaconda3\\lib\\site-packages\\seaborn\\distributions.py:2619: FutureWarning: `distplot` is a deprecated function and will be removed in a future version. Please adapt your code to use either `displot` (a figure-level function with similar flexibility) or `histplot` (an axes-level function for histograms).\n",
      "  warnings.warn(msg, FutureWarning)\n"
     ]
    },
    {
     "data": {
      "text/plain": [
       "<AxesSubplot:ylabel='Density'>"
      ]
     },
     "execution_count": 89,
     "metadata": {},
     "output_type": "execute_result"
    },
    {
     "data": {
      "image/png": "[encoded data removed]",
      "text/plain": [
       "<Figure size 432x288 with 1 Axes>"
      ]
     },
     "metadata": {},
     "output_type": "display_data"
    }
   ],
   "source": [
    "sns.distplot(predictionss-Ys)"
   ]
  },
  {
   "cell_type": "code",
   "execution_count": 90,
   "id": "d95bba34",
   "metadata": {},
   "outputs": [
    {
     "data": {
      "image/png": "[encoded data removed]",
      "text/plain": [
       "<Figure size 432x288 with 1 Axes>"
      ]
     },
     "metadata": {},
     "output_type": "display_data"
    }
   ],
   "source": [
    "plt.scatter(X_train, y_train, color = 'red')\n",
    "plt.plot(X_train, model.predict(X_train), color = 'blue')\n",
    "plt.title('Amount in USD vs GDP (Training set)')\n",
    "plt.xlabel('Amount in USD')\n",
    "plt.ylabel('Rank')\n",
    "plt.show()"
   ]
  },
  {
   "cell_type": "code",
   "execution_count": 91,
   "id": "dc97b0c2",
   "metadata": {},
   "outputs": [
    {
     "data": {
      "image/png": "[encoded data removed]",
      "text/plain": [
       "<Figure size 432x288 with 1 Axes>"
      ]
     },
     "metadata": {},
     "output_type": "display_data"
    }
   ],
   "source": [
    "plt.scatter(X_test, y_test, color = 'red')\n",
    "plt.plot(X_test, model.predict(X_test), color = 'blue')\n",
    "plt.title('Amount in USD vs GDP(Test set)')\n",
    "plt.xlabel('Amount in USD')\n",
    "plt.ylabel('Rank')\n",
    "plt.show()"
   ]
  },
  {
   "cell_type": "markdown",
   "id": "429480ef",
   "metadata": {},
   "source": [
    "Standardize the magnitude of numeric features using a scaler"
   ]
  },
  {
   "cell_type": "code",
   "execution_count": 92,
   "id": "d590c63b",
   "metadata": {},
   "outputs": [],
   "source": [
    "from sklearn.preprocessing import StandardScaler\n",
    "sc_X = StandardScaler()\n",
    "sc_Y = StandardScaler()\n",
    "Xs = sc_X.fit_transform(X_test)\n",
    "Ys = np.squeeze(sc_Y.fit_transform(y_test.reshape(-1, 1)))"
   ]
  },
  {
   "cell_type": "code",
   "execution_count": 93,
   "id": "c8003910",
   "metadata": {},
   "outputs": [
    {
     "data": {
      "text/plain": [
       "LinearRegression()"
      ]
     },
     "execution_count": 93,
     "metadata": {},
     "output_type": "execute_result"
    }
   ],
   "source": [
    "models = LinearRegression()\n",
    "models.fit(Xs, Ys)"
   ]
  },
  {
   "cell_type": "code",
   "execution_count": 94,
   "id": "eece6b41",
   "metadata": {},
   "outputs": [
    {
     "data": {
      "text/plain": [
       "array([ 0.30157357, -0.00298253, -0.05683697, -0.35210782, -0.15526059,\n",
       "        0.44085228, -0.1181196 , -0.4301039 ,  0.17343716,  0.18457946,\n",
       "        0.02115911,  0.00444566, -0.24997011, -0.06797926,  0.15115257,\n",
       "       -0.13854714, -0.39110586, -0.18683043,  0.18272241,  0.39999719,\n",
       "        0.08801289, -0.20725797,  0.02301616,  0.26814668,  0.38514079,\n",
       "       -0.33910848,  0.42970998, -0.20911502,  0.29043127,  0.0360155 ,\n",
       "       -0.24625601,  0.24957619,  0.23843389,  0.11401158, -0.22025732,\n",
       "       -0.19425862, -0.10883435, -0.35953602, -0.18311633,  0.02673026,\n",
       "       -0.12926189,  0.38328375, -0.27411175,  0.0583001 ,  0.32757226,\n",
       "        0.46685097,  0.07315649, -0.2796829 , -0.30196749,  0.27928898,\n",
       "       -0.20168682,  0.15300962, -0.32982323,  0.2012929 ,  0.2235775 ,\n",
       "        0.44642343, -0.13669009,  0.14743847,  0.05272895, -0.16268878,\n",
       "        0.32385816, -0.04383762, -0.29453929, -0.31496684, -0.09026386,\n",
       "        0.10472633,  0.45013752, -0.2759688 , -0.03455237,  0.32942931,\n",
       "        0.205007  ,  0.34799981, -0.37996357, -0.14597534,  0.14372437,\n",
       "       -0.19982977, -0.02155303,  0.28300308, -0.433818  , -0.07912156,\n",
       "       -0.08840681,  0.03230141, -0.32239503,  0.0620142 , -0.14040419,\n",
       "       -0.13483304, -0.30753864,  0.17715126, -0.17383108,  0.36842735,\n",
       "        0.06015715, -0.2722547 , -0.31310979,  0.09729813,  0.13629617,\n",
       "       -0.22211437,  0.36471325, -0.34282258,  0.35728505])"
      ]
     },
     "execution_count": 94,
     "metadata": {},
     "output_type": "execute_result"
    }
   ],
   "source": [
    "predictionss = models.predict(Xs)\n",
    "predictionss"
   ]
  },
  {
   "cell_type": "code",
   "execution_count": 95,
   "id": "bdca13c4",
   "metadata": {},
   "outputs": [
    {
     "name": "stderr",
     "output_type": "stream",
     "text": [
      "C:\\Users\\ptlon\\Anaconda3\\lib\\site-packages\\seaborn\\distributions.py:2619: FutureWarning: `distplot` is a deprecated function and will be removed in a future version. Please adapt your code to use either `displot` (a figure-level function with similar flexibility) or `histplot` (an axes-level function for histograms).\n",
      "  warnings.warn(msg, FutureWarning)\n"
     ]
    },
    {
     "data": {
      "text/plain": [
       "<AxesSubplot:ylabel='Density'>"
      ]
     },
     "execution_count": 95,
     "metadata": {},
     "output_type": "execute_result"
    },
    {
     "data": {
      "image/png": "[encoded data removed]",
      "text/plain": [
       "<Figure size 432x288 with 1 Axes>"
      ]
     },
     "metadata": {},
     "output_type": "display_data"
    }
   ],
   "source": [
    "sns.distplot(predictionss-Ys)"
   ]
  },
  {
   "cell_type": "code",
   "execution_count": 96,
   "id": "d47945ac",
   "metadata": {},
   "outputs": [
    {
     "data": {
      "image/png": "[encoded data removed]",
      "text/plain": [
       "<Figure size 432x288 with 1 Axes>"
      ]
     },
     "metadata": {},
     "output_type": "display_data"
    }
   ],
   "source": [
    "plt.scatter(Xs, Ys, color = 'red')\n",
    "plt.plot(Xs, model.predict(Xs), color = 'blue')\n",
    "plt.title('Amount in USD vs GDP (Training set)')\n",
    "plt.xlabel('Amount in USD')\n",
    "plt.ylabel('GDP')\n",
    "plt.show()"
   ]
  },
  {
   "cell_type": "markdown",
   "id": "0fbc5b18",
   "metadata": {},
   "source": [
    "Convert categorical data into dummy or indicator variables"
   ]
  },
  {
   "cell_type": "code",
   "execution_count": 97,
   "id": "311d04d3",
   "metadata": {},
   "outputs": [
    {
     "data": {
      "text/html": [
       "<div>\n",
       "<style scoped>\n",
       "    .dataframe tbody tr th:only-of-type {\n",
       "        vertical-align: middle;\n",
       "    }\n",
       "\n",
       "    .dataframe tbody tr th {\n",
       "        vertical-align: top;\n",
       "    }\n",
       "\n",
       "    .dataframe thead th {\n",
       "        text-align: right;\n",
       "    }\n",
       "</style>\n",
       "<table border=\"1\" class=\"dataframe\">\n",
       "  <thead>\n",
       "    <tr style=\"text-align: right;\">\n",
       "      <th></th>\n",
       "      <th>Unnamed: 0</th>\n",
       "      <th>Amount (In USD)</th>\n",
       "      <th>GDP</th>\n",
       "      <th>Unnamed: 0</th>\n",
       "      <th>Amount (In USD)</th>\n",
       "      <th>GDP</th>\n",
       "    </tr>\n",
       "  </thead>\n",
       "  <tbody>\n",
       "    <tr>\n",
       "      <th>0</th>\n",
       "      <td>0</td>\n",
       "      <td>22500</td>\n",
       "      <td>117.703</td>\n",
       "      <td>0</td>\n",
       "      <td>22500</td>\n",
       "      <td>117.703</td>\n",
       "    </tr>\n",
       "    <tr>\n",
       "      <th>1</th>\n",
       "      <td>1</td>\n",
       "      <td>25000</td>\n",
       "      <td>117.703</td>\n",
       "      <td>1</td>\n",
       "      <td>25000</td>\n",
       "      <td>117.703</td>\n",
       "    </tr>\n",
       "    <tr>\n",
       "      <th>2</th>\n",
       "      <td>2</td>\n",
       "      <td>30000</td>\n",
       "      <td>117.703</td>\n",
       "      <td>2</td>\n",
       "      <td>30000</td>\n",
       "      <td>117.703</td>\n",
       "    </tr>\n",
       "    <tr>\n",
       "      <th>3</th>\n",
       "      <td>3</td>\n",
       "      <td>30000</td>\n",
       "      <td>117.703</td>\n",
       "      <td>3</td>\n",
       "      <td>30000</td>\n",
       "      <td>117.703</td>\n",
       "    </tr>\n",
       "    <tr>\n",
       "      <th>4</th>\n",
       "      <td>4</td>\n",
       "      <td>30000</td>\n",
       "      <td>117.703</td>\n",
       "      <td>4</td>\n",
       "      <td>30000</td>\n",
       "      <td>117.703</td>\n",
       "    </tr>\n",
       "  </tbody>\n",
       "</table>\n",
       "</div>"
      ],
      "text/plain": [
       "   Unnamed: 0  Amount (In USD)      GDP  Unnamed: 0  Amount (In USD)      GDP\n",
       "0           0            22500  117.703           0            22500  117.703\n",
       "1           1            25000  117.703           1            25000  117.703\n",
       "2           2            30000  117.703           2            30000  117.703\n",
       "3           3            30000  117.703           3            30000  117.703\n",
       "4           4            30000  117.703           4            30000  117.703"
      ]
     },
     "execution_count": 97,
     "metadata": {},
     "output_type": "execute_result"
    }
   ],
   "source": [
    "state_dummies = pd.get_dummies(df, prefix='State', drop_first=True) \n",
    "df = pd.concat([df, state_dummies], axis = 1)\n",
    "df.head()"
   ]
  },
  {
   "cell_type": "code",
   "execution_count": 98,
   "id": "ac10b155",
   "metadata": {},
   "outputs": [
    {
     "data": {
      "text/html": [
       "<div>\n",
       "<style scoped>\n",
       "    .dataframe tbody tr th:only-of-type {\n",
       "        vertical-align: middle;\n",
       "    }\n",
       "\n",
       "    .dataframe tbody tr th {\n",
       "        vertical-align: top;\n",
       "    }\n",
       "\n",
       "    .dataframe thead th {\n",
       "        text-align: right;\n",
       "    }\n",
       "</style>\n",
       "<table border=\"1\" class=\"dataframe\">\n",
       "  <thead>\n",
       "    <tr style=\"text-align: right;\">\n",
       "      <th></th>\n",
       "      <th>Unnamed: 0</th>\n",
       "      <th>Amount (In USD)</th>\n",
       "      <th>GDP</th>\n",
       "      <th>Unnamed: 0</th>\n",
       "      <th>Amount (In USD)</th>\n",
       "      <th>GDP</th>\n",
       "      <th>Unnamed: 0</th>\n",
       "      <th>Amount (In USD)</th>\n",
       "      <th>GDP</th>\n",
       "      <th>Unnamed: 0</th>\n",
       "      <th>Amount (In USD)</th>\n",
       "      <th>GDP</th>\n",
       "    </tr>\n",
       "  </thead>\n",
       "  <tbody>\n",
       "    <tr>\n",
       "      <th>0</th>\n",
       "      <td>0</td>\n",
       "      <td>22500</td>\n",
       "      <td>117.703</td>\n",
       "      <td>0</td>\n",
       "      <td>22500</td>\n",
       "      <td>117.703</td>\n",
       "      <td>0</td>\n",
       "      <td>22500</td>\n",
       "      <td>117.703</td>\n",
       "      <td>0</td>\n",
       "      <td>22500</td>\n",
       "      <td>117.703</td>\n",
       "    </tr>\n",
       "    <tr>\n",
       "      <th>1</th>\n",
       "      <td>1</td>\n",
       "      <td>25000</td>\n",
       "      <td>117.703</td>\n",
       "      <td>1</td>\n",
       "      <td>25000</td>\n",
       "      <td>117.703</td>\n",
       "      <td>1</td>\n",
       "      <td>25000</td>\n",
       "      <td>117.703</td>\n",
       "      <td>1</td>\n",
       "      <td>25000</td>\n",
       "      <td>117.703</td>\n",
       "    </tr>\n",
       "    <tr>\n",
       "      <th>2</th>\n",
       "      <td>2</td>\n",
       "      <td>30000</td>\n",
       "      <td>117.703</td>\n",
       "      <td>2</td>\n",
       "      <td>30000</td>\n",
       "      <td>117.703</td>\n",
       "      <td>2</td>\n",
       "      <td>30000</td>\n",
       "      <td>117.703</td>\n",
       "      <td>2</td>\n",
       "      <td>30000</td>\n",
       "      <td>117.703</td>\n",
       "    </tr>\n",
       "    <tr>\n",
       "      <th>3</th>\n",
       "      <td>3</td>\n",
       "      <td>30000</td>\n",
       "      <td>117.703</td>\n",
       "      <td>3</td>\n",
       "      <td>30000</td>\n",
       "      <td>117.703</td>\n",
       "      <td>3</td>\n",
       "      <td>30000</td>\n",
       "      <td>117.703</td>\n",
       "      <td>3</td>\n",
       "      <td>30000</td>\n",
       "      <td>117.703</td>\n",
       "    </tr>\n",
       "    <tr>\n",
       "      <th>4</th>\n",
       "      <td>4</td>\n",
       "      <td>30000</td>\n",
       "      <td>117.703</td>\n",
       "      <td>4</td>\n",
       "      <td>30000</td>\n",
       "      <td>117.703</td>\n",
       "      <td>4</td>\n",
       "      <td>30000</td>\n",
       "      <td>117.703</td>\n",
       "      <td>4</td>\n",
       "      <td>30000</td>\n",
       "      <td>117.703</td>\n",
       "    </tr>\n",
       "  </tbody>\n",
       "</table>\n",
       "</div>"
      ],
      "text/plain": [
       "   Unnamed: 0  Amount (In USD)      GDP  Unnamed: 0  Amount (In USD)      GDP  \\\n",
       "0           0            22500  117.703           0            22500  117.703   \n",
       "1           1            25000  117.703           1            25000  117.703   \n",
       "2           2            30000  117.703           2            30000  117.703   \n",
       "3           3            30000  117.703           3            30000  117.703   \n",
       "4           4            30000  117.703           4            30000  117.703   \n",
       "\n",
       "   Unnamed: 0  Amount (In USD)      GDP  Unnamed: 0  Amount (In USD)      GDP  \n",
       "0           0            22500  117.703           0            22500  117.703  \n",
       "1           1            25000  117.703           1            25000  117.703  \n",
       "2           2            30000  117.703           2            30000  117.703  \n",
       "3           3            30000  117.703           3            30000  117.703  \n",
       "4           4            30000  117.703           4            30000  117.703  "
      ]
     },
     "execution_count": 98,
     "metadata": {},
     "output_type": "execute_result"
    }
   ],
   "source": [
    "Industry_dummies = pd.get_dummies(df, prefix='Industry') \n",
    "df = pd.concat([df, Industry_dummies], axis = 1)\n",
    "df.head()"
   ]
  },
  {
   "cell_type": "code",
   "execution_count": 99,
   "id": "c23bd0b3",
   "metadata": {},
   "outputs": [],
   "source": [
    "df.to_excel(\"Amount (In USD)_dummies.xlsx\")"
   ]
  },
  {
   "cell_type": "code",
   "execution_count": 100,
   "id": "11ed37b8",
   "metadata": {},
   "outputs": [],
   "source": [
    "data = df[[\"Amount (In USD)\", 'GDP']]"
   ]
  },
  {
   "cell_type": "code",
   "execution_count": 101,
   "id": "ca74ad00",
   "metadata": {},
   "outputs": [],
   "source": [
    "# split into inputs and outputs\n",
    "X, y = data.iloc[:, :-1], data.iloc[:, -1]"
   ]
  },
  {
   "cell_type": "code",
   "execution_count": 102,
   "id": "727a2bf1",
   "metadata": {},
   "outputs": [
    {
     "name": "stdout",
     "output_type": "stream",
     "text": [
      "(495, 7) (495,)\n"
     ]
    }
   ],
   "source": [
    "print(X.shape, y.shape)"
   ]
  },
  {
   "cell_type": "code",
   "execution_count": 103,
   "id": "a4bd9406",
   "metadata": {},
   "outputs": [
    {
     "name": "stdout",
     "output_type": "stream",
     "text": [
      "(331, 7) (164, 7) (331,) (164,)\n"
     ]
    }
   ],
   "source": [
    "# split a dataset into train and test sets\n",
    "from sklearn.datasets import make_blobs\n",
    "from sklearn.model_selection import train_test_split\n",
    "\n",
    "# split into train test sets\n",
    "X_train, X_test, y_train, y_test = train_test_split(X, y, test_size=0.33, random_state=1)\n",
    "print(X_train.shape, X_test.shape, y_train.shape, y_test.shape)"
   ]
  },
  {
   "cell_type": "code",
   "execution_count": 104,
   "id": "7fc96311",
   "metadata": {},
   "outputs": [
    {
     "name": "stdout",
     "output_type": "stream",
     "text": [
      "(331, 7) (164, 7) (331,) (164,)\n"
     ]
    }
   ],
   "source": [
    "# split a dataset into train and test sets\n",
    "from sklearn.datasets import make_blobs\n",
    "from sklearn.model_selection import train_test_split\n",
    "\n",
    "# split into train test sets\n",
    "X_train, X_test, y_train, y_test = train_test_split(X, y, test_size=0.33, random_state=1)\n",
    "print(X_train.shape, X_test.shape, y_train.shape, y_test.shape)"
   ]
  },
  {
   "cell_type": "code",
   "execution_count": 105,
   "id": "d262b81f",
   "metadata": {},
   "outputs": [
    {
     "data": {
      "text/plain": [
       "RandomForestRegressor(random_state=1)"
      ]
     },
     "execution_count": 105,
     "metadata": {},
     "output_type": "execute_result"
    }
   ],
   "source": [
    "from sklearn.ensemble import RandomForestRegressor\n",
    "# fit the model\n",
    "model = RandomForestRegressor(random_state=1)\n",
    "model.fit(X_train, y_train)"
   ]
  },
  {
   "cell_type": "code",
   "execution_count": 106,
   "id": "c85a872d",
   "metadata": {},
   "outputs": [],
   "source": [
    "# make predictions\n",
    "yhat = model.predict(X_test)"
   ]
  },
  {
   "cell_type": "code",
   "execution_count": 107,
   "id": "eeb3705b",
   "metadata": {},
   "outputs": [
    {
     "name": "stderr",
     "output_type": "stream",
     "text": [
      "C:\\Users\\ptlon\\Anaconda3\\lib\\site-packages\\seaborn\\distributions.py:2619: FutureWarning: `distplot` is a deprecated function and will be removed in a future version. Please adapt your code to use either `displot` (a figure-level function with similar flexibility) or `histplot` (an axes-level function for histograms).\n",
      "  warnings.warn(msg, FutureWarning)\n"
     ]
    },
    {
     "data": {
      "text/plain": [
       "<AxesSubplot:xlabel='GDP', ylabel='Density'>"
      ]
     },
     "execution_count": 107,
     "metadata": {},
     "output_type": "execute_result"
    },
    {
     "data": {
      "image/png": "[encoded data removed]",
      "text/plain": [
       "<Figure size 432x288 with 1 Axes>"
      ]
     },
     "metadata": {},
     "output_type": "display_data"
    }
   ],
   "source": [
    "sns.distplot(yhat-y_test)\n"
   ]
  },
  {
   "cell_type": "code",
   "execution_count": 108,
   "id": "8ec9b72a",
   "metadata": {},
   "outputs": [
    {
     "name": "stderr",
     "output_type": "stream",
     "text": [
      "C:\\Users\\ptlon\\Anaconda3\\lib\\site-packages\\seaborn\\distributions.py:2619: FutureWarning: `distplot` is a deprecated function and will be removed in a future version. Please adapt your code to use either `displot` (a figure-level function with similar flexibility) or `histplot` (an axes-level function for histograms).\n",
      "  warnings.warn(msg, FutureWarning)\n"
     ]
    },
    {
     "data": {
      "text/plain": [
       "<AxesSubplot:xlabel='GDP', ylabel='Density'>"
      ]
     },
     "execution_count": 108,
     "metadata": {},
     "output_type": "execute_result"
    },
    {
     "data": {
      "image/png": "[encoded data removed]",
      "text/plain": [
       "<Figure size 432x288 with 1 Axes>"
      ]
     },
     "metadata": {},
     "output_type": "display_data"
    }
   ],
   "source": [
    "sns.distplot(yhat-y_test)"
   ]
  },
  {
   "cell_type": "markdown",
   "id": "5877b7c6",
   "metadata": {},
   "source": [
    "'Does my data set have any categorical data, such as Gender or day of the week?\n",
    " Do my features have data values that range from 0 - 100 or 0-1 or both and more?'\n",
    " \n",
    " Yes, my data does have categorical data - I have used Amount in USD, which is, the amount each start up has raised. And, my data has GDP, which is, the GDP of each Indian State.\n",
    " \n",
    " My data has values that both range from 1-28 (Number of Indian States) as well as, numbers that range from 0 - well over 100,000 (Amount in USD).\n",
    " \n",
    " "
   ]
  },
  {
   "cell_type": "code",
   "execution_count": null,
   "id": "99309e8a",
   "metadata": {},
   "outputs": [],
   "source": []
  }
 ],
 "metadata": {
  "kernelspec": {
   "display_name": "Python 3 (ipykernel)",
   "language": "python",
   "name": "python3"
  },
  "language_info": {
   "codemirror_mode": {
    "name": "ipython",
    "version": 3
   },
   "file_extension": ".py",
   "mimetype": "text/x-python",
   "name": "python",
   "nbconvert_exporter": "python",
   "pygments_lexer": "ipython3",
   "version": "3.9.7"
  }
 },
 "nbformat": 4,
 "nbformat_minor": 5
}
