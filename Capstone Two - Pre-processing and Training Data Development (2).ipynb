{
 "cells": [
  {
   "cell_type": "markdown",
   "id": "8356d8c1",
   "metadata": {},
   "source": [
    "# Pre-Processing and Training Data Development\n"
   ]
  },
  {
   "cell_type": "markdown",
   "id": "6d4c05c7",
   "metadata": {},
   "source": [
    "Goal: Create a cleaned development dataset you can use to complete the\n",
    "modeling step of your project. \n",
    "\n",
    "With this project I Created a dummy indicator features for categorical variables "
   ]
  },
  {
   "cell_type": "code",
   "execution_count": 1,
   "id": "79879ee1",
   "metadata": {},
   "outputs": [
    {
     "name": "stderr",
     "output_type": "stream",
     "text": [
      "C:\\Users\\ptlon\\AppData\\Local\\Temp/ipykernel_1160/2988767508.py:8: FutureWarning: pandas.util.testing is deprecated. Use the functions in the public API at pandas.testing instead.\n",
      "  import pandas.util.testing as tm\n"
     ]
    }
   ],
   "source": [
    "import numpy as np\n",
    "import pandas as pd\n",
    "import seaborn as sns\n",
    "import matplotlib.pyplot as plt\n",
    "%matplotlib inline\n",
    "from sklearn.model_selection import train_test_split\n",
    "import scipy\n",
    "import pandas.util.testing as tm"
   ]
  },
  {
   "cell_type": "code",
   "execution_count": 2,
   "id": "b10a21fe",
   "metadata": {},
   "outputs": [
    {
     "data": {
      "text/html": [
       "<div>\n",
       "<style scoped>\n",
       "    .dataframe tbody tr th:only-of-type {\n",
       "        vertical-align: middle;\n",
       "    }\n",
       "\n",
       "    .dataframe tbody tr th {\n",
       "        vertical-align: top;\n",
       "    }\n",
       "\n",
       "    .dataframe thead th {\n",
       "        text-align: right;\n",
       "    }\n",
       "</style>\n",
       "<table border=\"1\" class=\"dataframe\">\n",
       "  <thead>\n",
       "    <tr style=\"text-align: right;\">\n",
       "      <th></th>\n",
       "      <th>Date</th>\n",
       "      <th>Startup Name</th>\n",
       "      <th>Industry</th>\n",
       "      <th>Sub-Vertical</th>\n",
       "      <th>State</th>\n",
       "      <th>Investors’ Name</th>\n",
       "      <th>Investment Type</th>\n",
       "      <th>Amount (In USD)</th>\n",
       "      <th>Rank</th>\n",
       "      <th>GDP</th>\n",
       "    </tr>\n",
       "  </thead>\n",
       "  <tbody>\n",
       "    <tr>\n",
       "      <th>0</th>\n",
       "      <td>2017-01-30</td>\n",
       "      <td>Cloudrino</td>\n",
       "      <td>Technology</td>\n",
       "      <td>Cloud based Virtual Servers</td>\n",
       "      <td>Delhi</td>\n",
       "      <td>The Ten Minute Million</td>\n",
       "      <td>Seed Funding</td>\n",
       "      <td>22500</td>\n",
       "      <td>12</td>\n",
       "      <td>117.703</td>\n",
       "    </tr>\n",
       "    <tr>\n",
       "      <th>1</th>\n",
       "      <td>2016-10-14</td>\n",
       "      <td>Newspatrolling</td>\n",
       "      <td>Consumer Internet</td>\n",
       "      <td>Online News portal</td>\n",
       "      <td>Delhi</td>\n",
       "      <td>Undisclosed</td>\n",
       "      <td>Seed Funding</td>\n",
       "      <td>25000</td>\n",
       "      <td>12</td>\n",
       "      <td>117.703</td>\n",
       "    </tr>\n",
       "    <tr>\n",
       "      <th>2</th>\n",
       "      <td>2017-03-07</td>\n",
       "      <td>Book Servicing</td>\n",
       "      <td>Consumer Internet</td>\n",
       "      <td>Online Vehicle Services Booking platform</td>\n",
       "      <td>Delhi</td>\n",
       "      <td>National Science and Technology Entrepreneursh...</td>\n",
       "      <td>Seed Funding</td>\n",
       "      <td>30000</td>\n",
       "      <td>12</td>\n",
       "      <td>117.703</td>\n",
       "    </tr>\n",
       "    <tr>\n",
       "      <th>3</th>\n",
       "      <td>2016-03-19</td>\n",
       "      <td>goSporto</td>\n",
       "      <td>Consumer Internet</td>\n",
       "      <td>Online Sports discovery and booking platform</td>\n",
       "      <td>Delhi</td>\n",
       "      <td>Naveen Gupta</td>\n",
       "      <td>Seed Funding</td>\n",
       "      <td>30000</td>\n",
       "      <td>12</td>\n",
       "      <td>117.703</td>\n",
       "    </tr>\n",
       "    <tr>\n",
       "      <th>4</th>\n",
       "      <td>2016-02-04</td>\n",
       "      <td>Perfumery</td>\n",
       "      <td>ECommerce</td>\n",
       "      <td>Fragrances &amp; Perfume eTailer</td>\n",
       "      <td>Delhi</td>\n",
       "      <td>Oranda Global &amp; Others</td>\n",
       "      <td>Seed Funding</td>\n",
       "      <td>30000</td>\n",
       "      <td>12</td>\n",
       "      <td>117.703</td>\n",
       "    </tr>\n",
       "    <tr>\n",
       "      <th>...</th>\n",
       "      <td>...</td>\n",
       "      <td>...</td>\n",
       "      <td>...</td>\n",
       "      <td>...</td>\n",
       "      <td>...</td>\n",
       "      <td>...</td>\n",
       "      <td>...</td>\n",
       "      <td>...</td>\n",
       "      <td>...</td>\n",
       "      <td>...</td>\n",
       "    </tr>\n",
       "    <tr>\n",
       "      <th>486</th>\n",
       "      <td>2017-12-05</td>\n",
       "      <td>HandyTrain</td>\n",
       "      <td>Technology</td>\n",
       "      <td>Mobile Learning Management Platform</td>\n",
       "      <td>Goa</td>\n",
       "      <td>NB Ventures</td>\n",
       "      <td>Private Equity</td>\n",
       "      <td>1000000</td>\n",
       "      <td>23</td>\n",
       "      <td>11.115</td>\n",
       "    </tr>\n",
       "    <tr>\n",
       "      <th>487</th>\n",
       "      <td>2016-11-30</td>\n",
       "      <td>HandyTrain</td>\n",
       "      <td>Consumer Internet</td>\n",
       "      <td>Mobile App for SAAS based Training</td>\n",
       "      <td>Goa</td>\n",
       "      <td>Silver Range Investments, Lumina Datamatics, S...</td>\n",
       "      <td>Private Equity</td>\n",
       "      <td>1000000</td>\n",
       "      <td>23</td>\n",
       "      <td>11.115</td>\n",
       "    </tr>\n",
       "    <tr>\n",
       "      <th>488</th>\n",
       "      <td>2017-11-28</td>\n",
       "      <td>MobieFit</td>\n",
       "      <td>Healthcare</td>\n",
       "      <td>Health and fitness based mobile App</td>\n",
       "      <td>Goa</td>\n",
       "      <td>NB Ventures, MediAssist</td>\n",
       "      <td>Seed/Angel Funding</td>\n",
       "      <td>1350000</td>\n",
       "      <td>23</td>\n",
       "      <td>11.115</td>\n",
       "    </tr>\n",
       "    <tr>\n",
       "      <th>492</th>\n",
       "      <td>2019-06-10</td>\n",
       "      <td>OkCredit</td>\n",
       "      <td>FinTech</td>\n",
       "      <td>Financial Services</td>\n",
       "      <td>Haryana</td>\n",
       "      <td>Tiger Global Management</td>\n",
       "      <td>Series A</td>\n",
       "      <td>15500000</td>\n",
       "      <td>13</td>\n",
       "      <td>111.519</td>\n",
       "    </tr>\n",
       "    <tr>\n",
       "      <th>493</th>\n",
       "      <td>2019-06-08</td>\n",
       "      <td>Vogo Automotive Pvt. Ltd.</td>\n",
       "      <td>Transportation</td>\n",
       "      <td>Dockless Scooter Rental Company</td>\n",
       "      <td>Karnataka</td>\n",
       "      <td>Alteria Capital</td>\n",
       "      <td>Debt Funding</td>\n",
       "      <td>3584000</td>\n",
       "      <td>5</td>\n",
       "      <td>226.806</td>\n",
       "    </tr>\n",
       "  </tbody>\n",
       "</table>\n",
       "<p>289 rows × 10 columns</p>\n",
       "</div>"
      ],
      "text/plain": [
       "          Date               Startup Name           Industry  \\\n",
       "0   2017-01-30                  Cloudrino         Technology   \n",
       "1   2016-10-14             Newspatrolling  Consumer Internet   \n",
       "2   2017-03-07             Book Servicing  Consumer Internet   \n",
       "3   2016-03-19                   goSporto  Consumer Internet   \n",
       "4   2016-02-04                  Perfumery          ECommerce   \n",
       "..         ...                        ...                ...   \n",
       "486 2017-12-05                 HandyTrain         Technology   \n",
       "487 2016-11-30                 HandyTrain  Consumer Internet   \n",
       "488 2017-11-28                   MobieFit         Healthcare   \n",
       "492 2019-06-10                   OkCredit            FinTech   \n",
       "493 2019-06-08  Vogo Automotive Pvt. Ltd.     Transportation   \n",
       "\n",
       "                                     Sub-Vertical      State  \\\n",
       "0                     Cloud based Virtual Servers      Delhi   \n",
       "1                              Online News portal      Delhi   \n",
       "2        Online Vehicle Services Booking platform      Delhi   \n",
       "3    Online Sports discovery and booking platform      Delhi   \n",
       "4                    Fragrances & Perfume eTailer      Delhi   \n",
       "..                                            ...        ...   \n",
       "486           Mobile Learning Management Platform        Goa   \n",
       "487            Mobile App for SAAS based Training        Goa   \n",
       "488           Health and fitness based mobile App        Goa   \n",
       "492                            Financial Services    Haryana   \n",
       "493               Dockless Scooter Rental Company  Karnataka   \n",
       "\n",
       "                                       Investors’ Name     Investment Type  \\\n",
       "0                               The Ten Minute Million        Seed Funding   \n",
       "1                                          Undisclosed        Seed Funding   \n",
       "2    National Science and Technology Entrepreneursh...        Seed Funding   \n",
       "3                                         Naveen Gupta        Seed Funding   \n",
       "4                               Oranda Global & Others        Seed Funding   \n",
       "..                                                 ...                 ...   \n",
       "486                                        NB Ventures      Private Equity   \n",
       "487  Silver Range Investments, Lumina Datamatics, S...      Private Equity   \n",
       "488                            NB Ventures, MediAssist  Seed/Angel Funding   \n",
       "492                            Tiger Global Management            Series A   \n",
       "493                                    Alteria Capital        Debt Funding   \n",
       "\n",
       "    Amount (In USD)  Rank      GDP  \n",
       "0             22500    12  117.703  \n",
       "1             25000    12  117.703  \n",
       "2             30000    12  117.703  \n",
       "3             30000    12  117.703  \n",
       "4             30000    12  117.703  \n",
       "..              ...   ...      ...  \n",
       "486         1000000    23   11.115  \n",
       "487         1000000    23   11.115  \n",
       "488         1350000    23   11.115  \n",
       "492        15500000    13  111.519  \n",
       "493         3584000     5  226.806  \n",
       "\n",
       "[289 rows x 10 columns]"
      ]
     },
     "execution_count": 2,
     "metadata": {},
     "output_type": "execute_result"
    }
   ],
   "source": [
    "# Importing the dataset\n",
    "df = pd.read_excel(r\"EDA_DATA.xlsx\")\n",
    "df.dropna(axis=0, how='any', thresh=None, subset=None, inplace=False)"
   ]
  },
  {
   "cell_type": "code",
   "execution_count": 3,
   "id": "0af3d5e4",
   "metadata": {},
   "outputs": [
    {
     "data": {
      "text/plain": [
       "(495, 10)"
      ]
     },
     "execution_count": 3,
     "metadata": {},
     "output_type": "execute_result"
    }
   ],
   "source": [
    "nrow, ncol = df.shape\n",
    "nrow, ncol"
   ]
  },
  {
   "cell_type": "code",
   "execution_count": 4,
   "id": "1afa9fa3",
   "metadata": {},
   "outputs": [
    {
     "data": {
      "text/html": [
       "<div>\n",
       "<style scoped>\n",
       "    .dataframe tbody tr th:only-of-type {\n",
       "        vertical-align: middle;\n",
       "    }\n",
       "\n",
       "    .dataframe tbody tr th {\n",
       "        vertical-align: top;\n",
       "    }\n",
       "\n",
       "    .dataframe thead th {\n",
       "        text-align: right;\n",
       "    }\n",
       "</style>\n",
       "<table border=\"1\" class=\"dataframe\">\n",
       "  <thead>\n",
       "    <tr style=\"text-align: right;\">\n",
       "      <th></th>\n",
       "      <th>Date</th>\n",
       "      <th>Startup Name</th>\n",
       "      <th>Industry</th>\n",
       "      <th>Sub-Vertical</th>\n",
       "      <th>State</th>\n",
       "      <th>Investors’ Name</th>\n",
       "      <th>Investment Type</th>\n",
       "      <th>Amount (In USD)</th>\n",
       "      <th>Rank</th>\n",
       "      <th>GDP</th>\n",
       "    </tr>\n",
       "  </thead>\n",
       "  <tbody>\n",
       "    <tr>\n",
       "      <th>0</th>\n",
       "      <td>2017-01-30</td>\n",
       "      <td>Cloudrino</td>\n",
       "      <td>Technology</td>\n",
       "      <td>Cloud based Virtual Servers</td>\n",
       "      <td>Delhi</td>\n",
       "      <td>The Ten Minute Million</td>\n",
       "      <td>Seed Funding</td>\n",
       "      <td>22500</td>\n",
       "      <td>12</td>\n",
       "      <td>117.703</td>\n",
       "    </tr>\n",
       "    <tr>\n",
       "      <th>1</th>\n",
       "      <td>2016-10-14</td>\n",
       "      <td>Newspatrolling</td>\n",
       "      <td>Consumer Internet</td>\n",
       "      <td>Online News portal</td>\n",
       "      <td>Delhi</td>\n",
       "      <td>Undisclosed</td>\n",
       "      <td>Seed Funding</td>\n",
       "      <td>25000</td>\n",
       "      <td>12</td>\n",
       "      <td>117.703</td>\n",
       "    </tr>\n",
       "    <tr>\n",
       "      <th>2</th>\n",
       "      <td>2017-03-07</td>\n",
       "      <td>Book Servicing</td>\n",
       "      <td>Consumer Internet</td>\n",
       "      <td>Online Vehicle Services Booking platform</td>\n",
       "      <td>Delhi</td>\n",
       "      <td>National Science and Technology Entrepreneursh...</td>\n",
       "      <td>Seed Funding</td>\n",
       "      <td>30000</td>\n",
       "      <td>12</td>\n",
       "      <td>117.703</td>\n",
       "    </tr>\n",
       "  </tbody>\n",
       "</table>\n",
       "</div>"
      ],
      "text/plain": [
       "        Date    Startup Name           Industry  \\\n",
       "0 2017-01-30       Cloudrino         Technology   \n",
       "1 2016-10-14  Newspatrolling  Consumer Internet   \n",
       "2 2017-03-07  Book Servicing  Consumer Internet   \n",
       "\n",
       "                               Sub-Vertical  State  \\\n",
       "0               Cloud based Virtual Servers  Delhi   \n",
       "1                        Online News portal  Delhi   \n",
       "2  Online Vehicle Services Booking platform  Delhi   \n",
       "\n",
       "                                     Investors’ Name Investment Type  \\\n",
       "0                             The Ten Minute Million    Seed Funding   \n",
       "1                                        Undisclosed    Seed Funding   \n",
       "2  National Science and Technology Entrepreneursh...    Seed Funding   \n",
       "\n",
       "  Amount (In USD)  Rank      GDP  \n",
       "0           22500    12  117.703  \n",
       "1           25000    12  117.703  \n",
       "2           30000    12  117.703  "
      ]
     },
     "execution_count": 4,
     "metadata": {},
     "output_type": "execute_result"
    }
   ],
   "source": [
    "df.head(3)"
   ]
  },
  {
   "cell_type": "code",
   "execution_count": 5,
   "id": "8f588876",
   "metadata": {},
   "outputs": [],
   "source": [
    "sns.set_style(style = 'whitegrid')\n"
   ]
  },
  {
   "cell_type": "code",
   "execution_count": 6,
   "id": "e469df77",
   "metadata": {},
   "outputs": [
    {
     "name": "stdout",
     "output_type": "stream",
     "text": [
      "<class 'pandas.core.frame.DataFrame'>\n",
      "RangeIndex: 495 entries, 0 to 494\n",
      "Data columns (total 10 columns):\n",
      " #   Column           Non-Null Count  Dtype         \n",
      "---  ------           --------------  -----         \n",
      " 0   Date             495 non-null    datetime64[ns]\n",
      " 1   Startup Name     495 non-null    object        \n",
      " 2   Industry         495 non-null    object        \n",
      " 3   Sub-Vertical     495 non-null    object        \n",
      " 4   State            495 non-null    object        \n",
      " 5   Investors’ Name  491 non-null    object        \n",
      " 6   Investment Type  495 non-null    object        \n",
      " 7   Amount (In USD)  293 non-null    object        \n",
      " 8   Rank             495 non-null    int64         \n",
      " 9   GDP              495 non-null    float64       \n",
      "dtypes: datetime64[ns](1), float64(1), int64(1), object(7)\n",
      "memory usage: 38.8+ KB\n"
     ]
    }
   ],
   "source": [
    "df.info()"
   ]
  },
  {
   "cell_type": "markdown",
   "id": "464c90ac",
   "metadata": {},
   "source": [
    "Now making sure I have the variables all sorted that I will be using in this project - GDP and Amount in USD. I will be removing the other variables for now"
   ]
  },
  {
   "cell_type": "code",
   "execution_count": 7,
   "id": "8402fcd5",
   "metadata": {},
   "outputs": [
    {
     "data": {
      "text/plain": [
       "True"
      ]
     },
     "execution_count": 7,
     "metadata": {},
     "output_type": "execute_result"
    }
   ],
   "source": [
    "df['Amount (In USD)'].isnull().values.any()"
   ]
  },
  {
   "cell_type": "code",
   "execution_count": 8,
   "id": "478f088f",
   "metadata": {},
   "outputs": [],
   "source": [
    "df['Amount (In USD)'] = df['Amount (In USD)'].replace('', 0)"
   ]
  },
  {
   "cell_type": "code",
   "execution_count": 9,
   "id": "a0ad1c06",
   "metadata": {},
   "outputs": [],
   "source": [
    "df['Amount (In USD)'] = df['Amount (In USD)'].replace('undisclosed', 0)"
   ]
  },
  {
   "cell_type": "code",
   "execution_count": 10,
   "id": "a0650cdd",
   "metadata": {},
   "outputs": [],
   "source": [
    "df['Amount (In USD)'] = df['Amount (In USD)'].fillna(0)"
   ]
  },
  {
   "cell_type": "code",
   "execution_count": 11,
   "id": "e1e5fd9a",
   "metadata": {},
   "outputs": [
    {
     "data": {
      "text/plain": [
       "0         22500.0\n",
       "1         25000.0\n",
       "2         30000.0\n",
       "3         30000.0\n",
       "4         30000.0\n",
       "          ...    \n",
       "490           0.0\n",
       "491           0.0\n",
       "492    15500000.0\n",
       "493     3584000.0\n",
       "494           0.0\n",
       "Name: Amount (In USD), Length: 495, dtype: float64"
      ]
     },
     "execution_count": 11,
     "metadata": {},
     "output_type": "execute_result"
    }
   ],
   "source": [
    "df['Amount (In USD)']"
   ]
  },
  {
   "cell_type": "code",
   "execution_count": 12,
   "id": "8958a6fb",
   "metadata": {},
   "outputs": [],
   "source": [
    "df['Amount (In USD)']  = df['Amount (In USD)'].astype('int')"
   ]
  },
  {
   "cell_type": "code",
   "execution_count": 13,
   "id": "b346dcb2",
   "metadata": {},
   "outputs": [],
   "source": [
    "df.to_excel(r\"EDA_DATA.xlsx\")"
   ]
  },
  {
   "cell_type": "code",
   "execution_count": 14,
   "id": "4102b4ba",
   "metadata": {},
   "outputs": [],
   "source": [
    "del df['Startup Name']"
   ]
  },
  {
   "cell_type": "code",
   "execution_count": 15,
   "id": "53e5e078",
   "metadata": {},
   "outputs": [],
   "source": [
    "del df['Industry']"
   ]
  },
  {
   "cell_type": "code",
   "execution_count": 16,
   "id": "692487a8",
   "metadata": {},
   "outputs": [],
   "source": [
    "del df['Sub-Vertical']"
   ]
  },
  {
   "cell_type": "code",
   "execution_count": 17,
   "id": "dffda79c",
   "metadata": {},
   "outputs": [],
   "source": [
    "del df['Investment Type']"
   ]
  },
  {
   "cell_type": "code",
   "execution_count": 18,
   "id": "551c38a5",
   "metadata": {},
   "outputs": [],
   "source": [
    "del df['Rank']"
   ]
  },
  {
   "cell_type": "code",
   "execution_count": 19,
   "id": "2e1924ad",
   "metadata": {},
   "outputs": [],
   "source": [
    "del df['Date']"
   ]
  },
  {
   "cell_type": "code",
   "execution_count": 20,
   "id": "36b57e1e",
   "metadata": {},
   "outputs": [],
   "source": [
    "del df['State']"
   ]
  },
  {
   "cell_type": "code",
   "execution_count": 21,
   "id": "3a2464d3",
   "metadata": {},
   "outputs": [],
   "source": [
    "del df['Investors’ Name']"
   ]
  },
  {
   "cell_type": "code",
   "execution_count": 22,
   "id": "fbc00c86",
   "metadata": {},
   "outputs": [
    {
     "name": "stdout",
     "output_type": "stream",
     "text": [
      "<class 'pandas.core.frame.DataFrame'>\n",
      "RangeIndex: 495 entries, 0 to 494\n",
      "Data columns (total 2 columns):\n",
      " #   Column           Non-Null Count  Dtype  \n",
      "---  ------           --------------  -----  \n",
      " 0   Amount (In USD)  495 non-null    int32  \n",
      " 1   GDP              495 non-null    float64\n",
      "dtypes: float64(1), int32(1)\n",
      "memory usage: 5.9 KB\n"
     ]
    }
   ],
   "source": [
    "df.info()"
   ]
  },
  {
   "cell_type": "markdown",
   "id": "a2cfc6ee",
   "metadata": {},
   "source": [
    "Split the dataset into Independent(X) and Dependent(y) Variables"
   ]
  },
  {
   "cell_type": "code",
   "execution_count": 23,
   "id": "3f3b15be",
   "metadata": {},
   "outputs": [],
   "source": [
    "x = df.iloc[:, 0:1].values\n",
    "y = df.iloc[:, -1].values"
   ]
  },
  {
   "cell_type": "code",
   "execution_count": 24,
   "id": "95f1cdd2",
   "metadata": {},
   "outputs": [
    {
     "data": {
      "text/plain": [
       "array([[    22500],\n",
       "       [    25000],\n",
       "       [    30000],\n",
       "       [    30000],\n",
       "       [    30000],\n",
       "       [    37000],\n",
       "       [    40000],\n",
       "       [    45000],\n",
       "       [    46140],\n",
       "       [    50000],\n",
       "       [    50000],\n",
       "       [    70000],\n",
       "       [    77000],\n",
       "       [    80000],\n",
       "       [    89000],\n",
       "       [   100000],\n",
       "       [   100000],\n",
       "       [   100000],\n",
       "       [   100000],\n",
       "       [   100000],\n",
       "       [   100000],\n",
       "       [   100000],\n",
       "       [   100000],\n",
       "       [   100000],\n",
       "       [   100000],\n",
       "       [   100000],\n",
       "       [   100000],\n",
       "       [   100000],\n",
       "       [   100000],\n",
       "       [   100000],\n",
       "       [   104000],\n",
       "       [   110000],\n",
       "       [   120000],\n",
       "       [   120000],\n",
       "       [   123000],\n",
       "       [   133000],\n",
       "       [   141000],\n",
       "       [   145000],\n",
       "       [   145000],\n",
       "       [   147000],\n",
       "       [   148000],\n",
       "       [   150000],\n",
       "       [   150000],\n",
       "       [   150000],\n",
       "       [   150000],\n",
       "       [   150000],\n",
       "       [   150000],\n",
       "       [   150000],\n",
       "       [   150000],\n",
       "       [   155000],\n",
       "       [   156000],\n",
       "       [   180000],\n",
       "       [   187000],\n",
       "       [   200000],\n",
       "       [   200000],\n",
       "       [   200000],\n",
       "       [   200000],\n",
       "       [   200000],\n",
       "       [   200000],\n",
       "       [   200000],\n",
       "       [   200000],\n",
       "       [   205000],\n",
       "       [   220000],\n",
       "       [   220000],\n",
       "       [   240000],\n",
       "       [   246000],\n",
       "       [   250000],\n",
       "       [   250000],\n",
       "       [   250000],\n",
       "       [   250000],\n",
       "       [   250000],\n",
       "       [   250000],\n",
       "       [   250000],\n",
       "       [   293000],\n",
       "       [   295000],\n",
       "       [   300000],\n",
       "       [   300000],\n",
       "       [   300000],\n",
       "       [   300000],\n",
       "       [   300000],\n",
       "       [   324000],\n",
       "       [   330000],\n",
       "       [   336000],\n",
       "       [   350000],\n",
       "       [   350000],\n",
       "       [   350000],\n",
       "       [   350000],\n",
       "       [   350000],\n",
       "       [   375000],\n",
       "       [   376000],\n",
       "       [   441000],\n",
       "       [   443000],\n",
       "       [   445000],\n",
       "       [   450000],\n",
       "       [   450000],\n",
       "       [   450000],\n",
       "       [   455000],\n",
       "       [   475000],\n",
       "       [   500000],\n",
       "       [   500000],\n",
       "       [   500000],\n",
       "       [   500000],\n",
       "       [   500000],\n",
       "       [   500000],\n",
       "       [   500000],\n",
       "       [   500000],\n",
       "       [   500000],\n",
       "       [   500000],\n",
       "       [   500000],\n",
       "       [   500000],\n",
       "       [   500000],\n",
       "       [   570000],\n",
       "       [   600000],\n",
       "       [   600000],\n",
       "       [   600000],\n",
       "       [   600000],\n",
       "       [   600000],\n",
       "       [   620000],\n",
       "       [   650000],\n",
       "       [   650000],\n",
       "       [   650000],\n",
       "       [   700000],\n",
       "       [   740000],\n",
       "       [   750000],\n",
       "       [   750000],\n",
       "       [   772500],\n",
       "       [   872000],\n",
       "       [  1000000],\n",
       "       [  1000000],\n",
       "       [  1000000],\n",
       "       [  1000000],\n",
       "       [  1000000],\n",
       "       [  1000000],\n",
       "       [  1000000],\n",
       "       [  1000000],\n",
       "       [  1000000],\n",
       "       [  1000000],\n",
       "       [  1000000],\n",
       "       [  1000000],\n",
       "       [  1000000],\n",
       "       [  1000000],\n",
       "       [  1000000],\n",
       "       [  1000000],\n",
       "       [  1000000],\n",
       "       [  1000000],\n",
       "       [  1000000],\n",
       "       [  1000000],\n",
       "       [  1000000],\n",
       "       [  1000000],\n",
       "       [  1000000],\n",
       "       [  1000000],\n",
       "       [  1000000],\n",
       "       [  1000000],\n",
       "       [  1000000],\n",
       "       [  1100000],\n",
       "       [  1100000],\n",
       "       [  1300000],\n",
       "       [  1300000],\n",
       "       [  1400000],\n",
       "       [  1500000],\n",
       "       [  1500000],\n",
       "       [  1500000],\n",
       "       [  1600000],\n",
       "       [  1600000],\n",
       "       [  1700000],\n",
       "       [  1750000],\n",
       "       [  1800000],\n",
       "       [  1800000],\n",
       "       [  2000000],\n",
       "       [  2000000],\n",
       "       [  2000000],\n",
       "       [  2000000],\n",
       "       [  2000000],\n",
       "       [  2000000],\n",
       "       [  2000000],\n",
       "       [  2000000],\n",
       "       [  2000000],\n",
       "       [  2000000],\n",
       "       [  2000000],\n",
       "       [  2000000],\n",
       "       [  2200000],\n",
       "       [  2250000],\n",
       "       [  2300000],\n",
       "       [  2400000],\n",
       "       [  2700000],\n",
       "       [  3000000],\n",
       "       [  3000000],\n",
       "       [  3000000],\n",
       "       [  3000000],\n",
       "       [  3000000],\n",
       "       [  3000000],\n",
       "       [  3000000],\n",
       "       [  3000000],\n",
       "       [  3100000],\n",
       "       [  3100000],\n",
       "       [  3100000],\n",
       "       [  3500000],\n",
       "       [  3591375],\n",
       "       [  3600000],\n",
       "       [  4000000],\n",
       "       [  4000000],\n",
       "       [  4000000],\n",
       "       [  4000000],\n",
       "       [  4000000],\n",
       "       [  4400000],\n",
       "       [  5000000],\n",
       "       [  5000000],\n",
       "       [  5000000],\n",
       "       [  5000000],\n",
       "       [  5000000],\n",
       "       [  5000000],\n",
       "       [  5000000],\n",
       "       [  5000000],\n",
       "       [  5000000],\n",
       "       [  5000000],\n",
       "       [  6000000],\n",
       "       [  6000000],\n",
       "       [  6000000],\n",
       "       [  6000000],\n",
       "       [  6000000],\n",
       "       [  6900000],\n",
       "       [  7700000],\n",
       "       [  8000000],\n",
       "       [  8000000],\n",
       "       [  8600000],\n",
       "       [  9000000],\n",
       "       [  9200000],\n",
       "       [  9200000],\n",
       "       [ 10000000],\n",
       "       [ 10000000],\n",
       "       [ 10000000],\n",
       "       [ 10000000],\n",
       "       [ 10000000],\n",
       "       [ 10200000],\n",
       "       [ 11100000],\n",
       "       [ 12000000],\n",
       "       [ 13500000],\n",
       "       [ 14900000],\n",
       "       [ 15000000],\n",
       "       [ 15000000],\n",
       "       [ 15000000],\n",
       "       [ 15000000],\n",
       "       [ 16000000],\n",
       "       [ 16000000],\n",
       "       [ 16000000],\n",
       "       [ 18840000],\n",
       "       [ 20000000],\n",
       "       [ 20000000],\n",
       "       [ 21500000],\n",
       "       [ 25000000],\n",
       "       [ 26000000],\n",
       "       [ 27000000],\n",
       "       [ 30000000],\n",
       "       [ 30000000],\n",
       "       [ 30000000],\n",
       "       [ 45000000],\n",
       "       [ 50000000],\n",
       "       [ 60000000],\n",
       "       [ 62000000],\n",
       "       [100000000],\n",
       "       [100000000],\n",
       "       [100000000],\n",
       "       [137000000],\n",
       "       [175000000],\n",
       "       [200000000],\n",
       "       [220000000],\n",
       "       [500000000],\n",
       "       [680000000],\n",
       "       [ 10000000],\n",
       "       [  1000000],\n",
       "       [   500000],\n",
       "       [   535000],\n",
       "       [  5000000],\n",
       "       [  5500000],\n",
       "       [  5600000],\n",
       "       [ 75000000],\n",
       "       [        0],\n",
       "       [        0],\n",
       "       [        0],\n",
       "       [        0],\n",
       "       [        0],\n",
       "       [        0],\n",
       "       [        0],\n",
       "       [        0],\n",
       "       [        0],\n",
       "       [        0],\n",
       "       [        0],\n",
       "       [        0],\n",
       "       [        0],\n",
       "       [        0],\n",
       "       [        0],\n",
       "       [        0],\n",
       "       [        0],\n",
       "       [        0],\n",
       "       [        0],\n",
       "       [        0],\n",
       "       [        0],\n",
       "       [        0],\n",
       "       [        0],\n",
       "       [        0],\n",
       "       [        0],\n",
       "       [        0],\n",
       "       [        0],\n",
       "       [        0],\n",
       "       [        0],\n",
       "       [        0],\n",
       "       [        0],\n",
       "       [        0],\n",
       "       [        0],\n",
       "       [        0],\n",
       "       [        0],\n",
       "       [        0],\n",
       "       [        0],\n",
       "       [        0],\n",
       "       [        0],\n",
       "       [        0],\n",
       "       [        0],\n",
       "       [        0],\n",
       "       [        0],\n",
       "       [        0],\n",
       "       [        0],\n",
       "       [        0],\n",
       "       [        0],\n",
       "       [        0],\n",
       "       [        0],\n",
       "       [        0],\n",
       "       [        0],\n",
       "       [        0],\n",
       "       [        0],\n",
       "       [        0],\n",
       "       [        0],\n",
       "       [        0],\n",
       "       [        0],\n",
       "       [        0],\n",
       "       [        0],\n",
       "       [        0],\n",
       "       [        0],\n",
       "       [        0],\n",
       "       [        0],\n",
       "       [        0],\n",
       "       [        0],\n",
       "       [        0],\n",
       "       [        0],\n",
       "       [        0],\n",
       "       [        0],\n",
       "       [        0],\n",
       "       [        0],\n",
       "       [        0],\n",
       "       [        0],\n",
       "       [        0],\n",
       "       [        0],\n",
       "       [        0],\n",
       "       [        0],\n",
       "       [        0],\n",
       "       [        0],\n",
       "       [        0],\n",
       "       [        0],\n",
       "       [        0],\n",
       "       [        0],\n",
       "       [        0],\n",
       "       [        0],\n",
       "       [        0],\n",
       "       [        0],\n",
       "       [        0],\n",
       "       [        0],\n",
       "       [        0],\n",
       "       [        0],\n",
       "       [        0],\n",
       "       [        0],\n",
       "       [        0],\n",
       "       [        0],\n",
       "       [        0],\n",
       "       [        0],\n",
       "       [        0],\n",
       "       [        0],\n",
       "       [        0],\n",
       "       [        0],\n",
       "       [        0],\n",
       "       [        0],\n",
       "       [        0],\n",
       "       [        0],\n",
       "       [        0],\n",
       "       [        0],\n",
       "       [        0],\n",
       "       [        0],\n",
       "       [        0],\n",
       "       [        0],\n",
       "       [        0],\n",
       "       [        0],\n",
       "       [        0],\n",
       "       [        0],\n",
       "       [        0],\n",
       "       [        0],\n",
       "       [        0],\n",
       "       [        0],\n",
       "       [        0],\n",
       "       [        0],\n",
       "       [        0],\n",
       "       [        0],\n",
       "       [        0],\n",
       "       [        0],\n",
       "       [        0],\n",
       "       [        0],\n",
       "       [        0],\n",
       "       [        0],\n",
       "       [        0],\n",
       "       [        0],\n",
       "       [        0],\n",
       "       [        0],\n",
       "       [        0],\n",
       "       [        0],\n",
       "       [        0],\n",
       "       [        0],\n",
       "       [        0],\n",
       "       [        0],\n",
       "       [        0],\n",
       "       [        0],\n",
       "       [        0],\n",
       "       [        0],\n",
       "       [        0],\n",
       "       [        0],\n",
       "       [        0],\n",
       "       [        0],\n",
       "       [        0],\n",
       "       [        0],\n",
       "       [        0],\n",
       "       [        0],\n",
       "       [        0],\n",
       "       [        0],\n",
       "       [        0],\n",
       "       [        0],\n",
       "       [        0],\n",
       "       [        0],\n",
       "       [        0],\n",
       "       [        0],\n",
       "       [        0],\n",
       "       [        0],\n",
       "       [        0],\n",
       "       [        0],\n",
       "       [        0],\n",
       "       [        0],\n",
       "       [        0],\n",
       "       [        0],\n",
       "       [        0],\n",
       "       [        0],\n",
       "       [        0],\n",
       "       [        0],\n",
       "       [        0],\n",
       "       [        0],\n",
       "       [        0],\n",
       "       [        0],\n",
       "       [        0],\n",
       "       [        0],\n",
       "       [        0],\n",
       "       [        0],\n",
       "       [        0],\n",
       "       [        0],\n",
       "       [        0],\n",
       "       [        0],\n",
       "       [        0],\n",
       "       [        0],\n",
       "       [        0],\n",
       "       [        0],\n",
       "       [        0],\n",
       "       [        0],\n",
       "       [        0],\n",
       "       [        0],\n",
       "       [        0],\n",
       "       [        0],\n",
       "       [        0],\n",
       "       [    27000],\n",
       "       [   100000],\n",
       "       [  1000000],\n",
       "       [  5000000],\n",
       "       [ 10000000],\n",
       "       [ 10000000],\n",
       "       [ 21000000],\n",
       "       [        0],\n",
       "       [        0],\n",
       "       [        0],\n",
       "       [        0],\n",
       "       [        0],\n",
       "       [   180000],\n",
       "       [   200000],\n",
       "       [   250000],\n",
       "       [  1000000],\n",
       "       [  1000000],\n",
       "       [  1000000],\n",
       "       [  1350000],\n",
       "       [        0],\n",
       "       [        0],\n",
       "       [        0],\n",
       "       [ 15500000],\n",
       "       [  3584000],\n",
       "       [        0]])"
      ]
     },
     "execution_count": 24,
     "metadata": {},
     "output_type": "execute_result"
    }
   ],
   "source": [
    "x"
   ]
  },
  {
   "cell_type": "code",
   "execution_count": 25,
   "id": "b649776a",
   "metadata": {},
   "outputs": [
    {
     "data": {
      "text/plain": [
       "array([117.703, 117.703, 117.703, 117.703, 117.703, 117.703, 117.703,\n",
       "       117.703, 117.703, 117.703, 117.703, 117.703, 117.703, 117.703,\n",
       "       117.703, 117.703, 117.703, 117.703, 117.703, 117.703, 117.703,\n",
       "       117.703, 117.703, 117.703, 117.703, 117.703, 117.703, 117.703,\n",
       "       117.703, 117.703, 117.703, 117.703, 117.703, 117.703, 117.703,\n",
       "       117.703, 117.703, 117.703, 117.703, 117.703, 117.703, 117.703,\n",
       "       117.703, 117.703, 117.703, 117.703, 117.703, 117.703, 117.703,\n",
       "       117.703, 117.703, 117.703, 117.703, 117.703, 117.703, 117.703,\n",
       "       117.703, 117.703, 117.703, 117.703, 117.703, 117.703, 117.703,\n",
       "       117.703, 117.703, 117.703, 117.703, 117.703, 117.703, 117.703,\n",
       "       117.703, 117.703, 117.703, 117.703, 117.703, 117.703, 117.703,\n",
       "       117.703, 117.703, 117.703, 117.703, 117.703, 117.703, 117.703,\n",
       "       117.703, 117.703, 117.703, 117.703, 117.703, 117.703, 117.703,\n",
       "       117.703, 117.703, 117.703, 117.703, 117.703, 117.703, 117.703,\n",
       "       117.703, 117.703, 117.703, 117.703, 117.703, 117.703, 117.703,\n",
       "       117.703, 117.703, 117.703, 117.703, 117.703, 117.703, 117.703,\n",
       "       117.703, 117.703, 117.703, 117.703, 117.703, 117.703, 117.703,\n",
       "       117.703, 117.703, 117.703, 117.703, 117.703, 117.703, 117.703,\n",
       "       117.703, 117.703, 117.703, 117.703, 117.703, 117.703, 117.703,\n",
       "       117.703, 117.703, 117.703, 117.703, 117.703, 117.703, 117.703,\n",
       "       117.703, 117.703, 117.703, 117.703, 117.703, 117.703, 117.703,\n",
       "       117.703, 117.703, 117.703, 117.703, 117.703, 117.703, 117.703,\n",
       "       117.703, 117.703, 117.703, 117.703, 117.703, 117.703, 117.703,\n",
       "       117.703, 117.703, 117.703, 117.703, 117.703, 117.703, 117.703,\n",
       "       117.703, 117.703, 117.703, 117.703, 117.703, 117.703, 117.703,\n",
       "       117.703, 117.703, 117.703, 117.703, 117.703, 117.703, 117.703,\n",
       "       117.703, 117.703, 117.703, 117.703, 117.703, 117.703, 117.703,\n",
       "       117.703, 117.703, 117.703, 117.703, 117.703, 117.703, 117.703,\n",
       "       117.703, 117.703, 117.703, 117.703, 117.703, 117.703, 117.703,\n",
       "       117.703, 117.703, 117.703, 117.703, 117.703, 117.703, 117.703,\n",
       "       117.703, 117.703, 117.703, 117.703, 117.703, 117.703, 117.703,\n",
       "       117.703, 117.703, 117.703, 117.703, 117.703, 117.703, 117.703,\n",
       "       117.703, 117.703, 117.703, 117.703, 117.703, 117.703, 117.703,\n",
       "       117.703, 117.703, 117.703, 117.703, 117.703, 117.703, 117.703,\n",
       "       117.703, 117.703, 117.703, 117.703, 117.703, 117.703, 117.703,\n",
       "       117.703, 117.703, 117.703, 117.703, 117.703, 117.703, 117.703,\n",
       "       117.703, 117.703, 117.703, 117.703, 117.703, 117.703, 117.703,\n",
       "       117.703, 117.703, 117.703, 117.703, 117.703, 117.703, 117.703,\n",
       "       117.703, 117.703, 117.703, 117.703, 117.703, 117.703, 117.703,\n",
       "       117.703, 117.703, 117.703, 117.703, 117.703, 117.703, 117.703,\n",
       "       117.703, 117.703, 117.703, 117.703, 117.703, 117.703, 117.703,\n",
       "       117.703, 117.703, 117.703, 117.703, 117.703, 117.703, 117.703,\n",
       "       117.703, 117.703, 117.703, 117.703, 117.703, 117.703, 117.703,\n",
       "       117.703, 117.703, 117.703, 117.703, 117.703, 117.703, 117.703,\n",
       "       117.703, 117.703, 117.703, 117.703, 117.703, 117.703, 117.703,\n",
       "       117.703, 117.703, 117.703, 117.703, 117.703, 117.703, 117.703,\n",
       "       117.703, 117.703, 117.703, 117.703, 117.703, 117.703, 117.703,\n",
       "       117.703, 117.703, 117.703, 117.703, 117.703, 117.703, 117.703,\n",
       "       117.703, 117.703, 117.703, 117.703, 117.703, 117.703, 117.703,\n",
       "       117.703, 117.703, 117.703, 117.703, 117.703, 117.703, 117.703,\n",
       "       117.703, 117.703, 117.703, 117.703, 117.703, 117.703, 117.703,\n",
       "       117.703, 117.703, 117.703, 117.703, 117.703, 117.703, 117.703,\n",
       "       117.703, 117.703, 117.703, 117.703, 117.703, 117.703, 117.703,\n",
       "       117.703, 117.703, 117.703, 117.703, 117.703, 117.703, 117.703,\n",
       "       117.703, 117.703, 117.703, 117.703, 117.703, 117.703, 117.703,\n",
       "       117.703, 117.703, 117.703, 117.703, 117.703, 117.703, 117.703,\n",
       "       117.703, 117.703, 117.703, 117.703, 117.703, 117.703, 117.703,\n",
       "       117.703, 117.703, 117.703, 117.703, 117.703, 117.703, 117.703,\n",
       "       117.703, 117.703, 117.703, 117.703, 117.703, 117.703, 117.703,\n",
       "       117.703, 117.703, 117.703, 117.703, 117.703, 117.703, 117.703,\n",
       "       117.703, 117.703, 117.703, 117.703, 117.703, 117.703, 117.703,\n",
       "       117.703, 117.703, 117.703, 117.703, 117.703, 117.703, 117.703,\n",
       "       117.703, 117.703, 117.703, 117.703, 117.703, 117.703, 117.703,\n",
       "       117.703, 117.703, 117.703, 117.703, 117.703, 117.703, 117.703,\n",
       "       117.703, 117.703, 117.703, 117.703, 117.703, 117.703, 117.703,\n",
       "       117.703, 117.703, 117.703, 117.703, 117.703, 117.703, 117.703,\n",
       "       117.703, 117.703, 117.703, 117.703, 117.703, 117.703, 117.703,\n",
       "       117.703, 118.733,   6.397,   6.397,   6.397,   6.397,   6.397,\n",
       "         6.397,   6.397,   6.397,   6.397,   6.397,   6.397,  11.115,\n",
       "        11.115,  11.115,  11.115,  11.115,  11.115,  11.115,  11.115,\n",
       "        11.115,  11.115, 111.519, 226.806, 240.726])"
      ]
     },
     "execution_count": 25,
     "metadata": {},
     "output_type": "execute_result"
    }
   ],
   "source": [
    "y"
   ]
  },
  {
   "cell_type": "markdown",
   "id": "2af83585",
   "metadata": {},
   "source": [
    "Divide the complete dataset into training and testing data"
   ]
  },
  {
   "cell_type": "code",
   "execution_count": 26,
   "id": "78ed0279",
   "metadata": {},
   "outputs": [],
   "source": [
    "X_train, X_test, y_train, y_test = train_test_split(x, y, test_size = 0.2, random_state = 0)"
   ]
  },
  {
   "cell_type": "markdown",
   "id": "97ee6c84",
   "metadata": {},
   "source": [
    "Implement Classifier based on Simple Linear Regression"
   ]
  },
  {
   "cell_type": "code",
   "execution_count": 27,
   "id": "d4e1666c",
   "metadata": {},
   "outputs": [
    {
     "data": {
      "text/plain": [
       "LinearRegression()"
      ]
     },
     "execution_count": 27,
     "metadata": {},
     "output_type": "execute_result"
    }
   ],
   "source": [
    "from sklearn.linear_model import LinearRegression\n",
    "model = LinearRegression()\n",
    "model.fit(X_train, y_train)"
   ]
  },
  {
   "cell_type": "code",
   "execution_count": 28,
   "id": "2dfdf5be",
   "metadata": {},
   "outputs": [
    {
     "data": {
      "text/plain": [
       "array([112.95722313, 113.26219697, 112.95267312, 112.95267312,\n",
       "       112.95267312, 112.95370487, 112.95267312, 112.95525249,\n",
       "       112.96814932, 112.96299059, 113.10743505, 113.22092713,\n",
       "       112.95267312, 112.95267312, 112.97330805, 112.95267312,\n",
       "       112.95267312, 112.95267312, 112.96402233, 112.95416916,\n",
       "       113.00426043, 112.95267312, 113.10743505, 112.95783186,\n",
       "       112.95422074, 112.95267312, 112.95370487, 112.95267312,\n",
       "       112.95736757, 113.05791123, 112.95267312, 112.95937947,\n",
       "       112.96041122, 112.98362551, 112.95267312, 112.95267312,\n",
       "       112.95267312, 112.95267312, 112.95267312, 113.10743505,\n",
       "       112.95267312, 112.95422074, 112.95267312, 113.03211758,\n",
       "       112.95576836, 112.95293106, 113.00426043, 112.95267312,\n",
       "       112.95267312, 112.95783186, 112.95267312, 112.97330805,\n",
       "       112.95267312, 112.96299059, 112.96299059, 112.95346757,\n",
       "       112.95267312, 112.97330805, 113.04140329, 112.95267312,\n",
       "       112.95576836, 112.95267312, 112.95267312, 112.95267312,\n",
       "       112.95267312, 112.98878424, 112.953189  , 112.95267312,\n",
       "       112.95819297, 112.95576836, 112.96299059, 112.95521122,\n",
       "       112.95267312, 112.95267312, 112.97330805, 112.95267312,\n",
       "       115.01616545, 112.95783186, 112.96299059, 112.95267312,\n",
       "       112.95267312, 113.07648266, 112.95267312, 113.01457789,\n",
       "       112.95267312, 112.95267312, 112.95267312, 112.96608582,\n",
       "       112.95267312, 112.95473662, 113.02386361, 112.95267312,\n",
       "       112.95267312, 112.99394297, 112.97330805, 112.95267312,\n",
       "       112.95473662, 112.95267312, 112.95473662])"
      ]
     },
     "execution_count": 28,
     "metadata": {},
     "output_type": "execute_result"
    }
   ],
   "source": [
    "predictions = model.predict(X_test)\n",
    "predictions"
   ]
  },
  {
   "cell_type": "code",
   "execution_count": 29,
   "id": "20609743",
   "metadata": {},
   "outputs": [
    {
     "name": "stderr",
     "output_type": "stream",
     "text": [
      "C:\\Users\\ptlon\\Anaconda3\\lib\\site-packages\\seaborn\\distributions.py:2619: FutureWarning: `distplot` is a deprecated function and will be removed in a future version. Please adapt your code to use either `displot` (a figure-level function with similar flexibility) or `histplot` (an axes-level function for histograms).\n",
      "  warnings.warn(msg, FutureWarning)\n"
     ]
    },
    {
     "data": {
      "text/plain": [
       "<AxesSubplot:ylabel='Density'>"
      ]
     },
     "execution_count": 29,
     "metadata": {},
     "output_type": "execute_result"
    },
    {
     "data": {
      "image/png": "[encoded data removed]",
      "text/plain": [
       "<Figure size 432x288 with 1 Axes>"
      ]
     },
     "metadata": {},
     "output_type": "display_data"
    }
   ],
   "source": [
    "sns.distplot(predictions-y_test)"
   ]
  },
  {
   "cell_type": "code",
   "execution_count": 30,
   "id": "d503bade",
   "metadata": {},
   "outputs": [
    {
     "data": {
      "image/png": "[encoded data removed]",
      "text/plain": [
       "<Figure size 432x288 with 1 Axes>"
      ]
     },
     "metadata": {},
     "output_type": "display_data"
    }
   ],
   "source": [
    "plt.scatter(X_train, y_train, color = 'red')\n",
    "plt.plot(X_train, model.predict(X_train), color = 'blue')\n",
    "plt.title('Amount (In USD) vs GDP')\n",
    "plt.xlabel('GDP')\n",
    "plt.ylabel('Amount (In USD)')\n",
    "plt.show()"
   ]
  },
  {
   "cell_type": "markdown",
   "id": "65a5ed7b",
   "metadata": {},
   "source": [
    "Standardize the magnitude of numeric features using a scaler\n"
   ]
  },
  {
   "cell_type": "code",
   "execution_count": 31,
   "id": "0061de1a",
   "metadata": {},
   "outputs": [],
   "source": [
    "from sklearn.preprocessing import StandardScaler\n",
    "sc_X = StandardScaler()\n",
    "sc_Y = StandardScaler()\n",
    "Xs = sc_X.fit_transform(X_test)\n",
    "Ys = np.squeeze(sc_Y.fit_transform(y_test.reshape(-1, 1)))"
   ]
  },
  {
   "cell_type": "code",
   "execution_count": 32,
   "id": "87756fbf",
   "metadata": {},
   "outputs": [
    {
     "data": {
      "text/plain": [
       "LinearRegression()"
      ]
     },
     "execution_count": 32,
     "metadata": {},
     "output_type": "execute_result"
    }
   ],
   "source": [
    "models = LinearRegression()\n",
    "models.fit(Xs, Ys)"
   ]
  },
  {
   "cell_type": "code",
   "execution_count": 33,
   "id": "5860e5fb",
   "metadata": {},
   "outputs": [
    {
     "data": {
      "text/plain": [
       "array([-4.21248295e-03,  3.04860141e-02, -4.73016072e-03, -4.73016072e-03,\n",
       "       -4.73016072e-03, -4.61277347e-03, -4.73016072e-03, -4.43669259e-03,\n",
       "       -2.96935197e-03, -3.55628822e-03,  1.28779267e-02,  2.57905241e-02,\n",
       "       -4.73016072e-03, -4.73016072e-03, -2.38241573e-03, -4.73016072e-03,\n",
       "       -4.73016072e-03, -4.73016072e-03, -3.43890097e-03, -4.55994920e-03,\n",
       "        1.13920176e-03, -4.73016072e-03,  1.28779267e-02, -4.14322447e-03,\n",
       "       -4.55407984e-03, -4.73016072e-03, -4.61277347e-03, -4.73016072e-03,\n",
       "       -4.19604873e-03,  7.24333873e-03, -4.73016072e-03, -3.96714360e-03,\n",
       "       -3.84975635e-03, -1.20854323e-03, -4.73016072e-03, -4.73016072e-03,\n",
       "       -4.73016072e-03, -4.73016072e-03, -4.73016072e-03,  1.28779267e-02,\n",
       "       -4.73016072e-03, -4.55407984e-03, -4.73016072e-03,  4.30865749e-03,\n",
       "       -4.37799897e-03, -4.70081390e-03,  1.13920176e-03, -4.73016072e-03,\n",
       "       -4.73016072e-03, -4.14322447e-03, -4.73016072e-03, -2.38241573e-03,\n",
       "       -4.73016072e-03, -3.55628822e-03, -3.55628822e-03, -4.63977253e-03,\n",
       "       -4.73016072e-03, -2.38241573e-03,  5.36514273e-03, -4.73016072e-03,\n",
       "       -4.37799897e-03, -4.73016072e-03, -4.73016072e-03, -4.73016072e-03,\n",
       "       -4.73016072e-03, -6.21606986e-04, -4.67146709e-03, -4.73016072e-03,\n",
       "       -4.10213893e-03, -4.37799897e-03, -3.55628822e-03, -4.44138808e-03,\n",
       "       -4.73016072e-03, -4.73016072e-03, -2.38241573e-03, -4.73016072e-03,\n",
       "        2.30044338e-01, -4.14322447e-03, -3.55628822e-03, -4.73016072e-03,\n",
       "       -4.73016072e-03,  9.35630922e-03, -4.73016072e-03,  2.31307425e-03,\n",
       "       -4.73016072e-03, -4.73016072e-03, -4.73016072e-03, -3.20412647e-03,\n",
       "       -4.73016072e-03, -4.49538622e-03,  3.36955949e-03, -4.73016072e-03,\n",
       "       -4.73016072e-03, -3.46707391e-05, -2.38241573e-03, -4.73016072e-03,\n",
       "       -4.49538622e-03, -4.73016072e-03, -4.49538622e-03])"
      ]
     },
     "execution_count": 33,
     "metadata": {},
     "output_type": "execute_result"
    }
   ],
   "source": [
    "predictionss = models.predict(Xs)\n",
    "predictionss"
   ]
  },
  {
   "cell_type": "code",
   "execution_count": 34,
   "id": "7f2ee09a",
   "metadata": {},
   "outputs": [
    {
     "name": "stderr",
     "output_type": "stream",
     "text": [
      "C:\\Users\\ptlon\\Anaconda3\\lib\\site-packages\\seaborn\\distributions.py:2619: FutureWarning: `distplot` is a deprecated function and will be removed in a future version. Please adapt your code to use either `displot` (a figure-level function with similar flexibility) or `histplot` (an axes-level function for histograms).\n",
      "  warnings.warn(msg, FutureWarning)\n"
     ]
    },
    {
     "data": {
      "text/plain": [
       "<AxesSubplot:ylabel='Density'>"
      ]
     },
     "execution_count": 34,
     "metadata": {},
     "output_type": "execute_result"
    },
    {
     "data": {
      "image/png": "[encoded data removed]",
      "text/plain": [
       "<Figure size 432x288 with 1 Axes>"
      ]
     },
     "metadata": {},
     "output_type": "display_data"
    }
   ],
   "source": [
    "sns.distplot(predictionss-Ys)"
   ]
  },
  {
   "cell_type": "code",
   "execution_count": 35,
   "id": "d95bba34",
   "metadata": {},
   "outputs": [
    {
     "data": {
      "image/png": "[encoded data removed]",
      "text/plain": [
       "<Figure size 432x288 with 1 Axes>"
      ]
     },
     "metadata": {},
     "output_type": "display_data"
    }
   ],
   "source": [
    "plt.scatter(X_train, y_train, color = 'red')\n",
    "plt.plot(X_train, model.predict(X_train), color = 'blue')\n",
    "plt.title('Amount in USD vs GDP (Training set)')\n",
    "plt.xlabel('Amount in USD')\n",
    "plt.ylabel('Rank')\n",
    "plt.show()"
   ]
  },
  {
   "cell_type": "code",
   "execution_count": 36,
   "id": "dc97b0c2",
   "metadata": {},
   "outputs": [
    {
     "data": {
      "image/png": "[encoded data removed]",
      "text/plain": [
       "<Figure size 432x288 with 1 Axes>"
      ]
     },
     "metadata": {},
     "output_type": "display_data"
    }
   ],
   "source": [
    "plt.scatter(X_test, y_test, color = 'red')\n",
    "plt.plot(X_test, model.predict(X_test), color = 'blue')\n",
    "plt.title('Amount in USD vs GDP(Test set)')\n",
    "plt.xlabel('Amount in USD')\n",
    "plt.ylabel('Rank')\n",
    "plt.show()"
   ]
  },
  {
   "cell_type": "markdown",
   "id": "429480ef",
   "metadata": {},
   "source": [
    "Standardize the magnitude of numeric features using a scaler"
   ]
  },
  {
   "cell_type": "code",
   "execution_count": 37,
   "id": "d590c63b",
   "metadata": {},
   "outputs": [],
   "source": [
    "from sklearn.preprocessing import StandardScaler\n",
    "sc_X = StandardScaler()\n",
    "sc_Y = StandardScaler()\n",
    "Xs = sc_X.fit_transform(X_test)\n",
    "Ys = np.squeeze(sc_Y.fit_transform(y_test.reshape(-1, 1)))"
   ]
  },
  {
   "cell_type": "code",
   "execution_count": 38,
   "id": "c8003910",
   "metadata": {},
   "outputs": [
    {
     "data": {
      "text/plain": [
       "LinearRegression()"
      ]
     },
     "execution_count": 38,
     "metadata": {},
     "output_type": "execute_result"
    }
   ],
   "source": [
    "models = LinearRegression()\n",
    "models.fit(Xs, Ys)"
   ]
  },
  {
   "cell_type": "code",
   "execution_count": 39,
   "id": "eece6b41",
   "metadata": {},
   "outputs": [
    {
     "data": {
      "text/plain": [
       "array([-4.21248295e-03,  3.04860141e-02, -4.73016072e-03, -4.73016072e-03,\n",
       "       -4.73016072e-03, -4.61277347e-03, -4.73016072e-03, -4.43669259e-03,\n",
       "       -2.96935197e-03, -3.55628822e-03,  1.28779267e-02,  2.57905241e-02,\n",
       "       -4.73016072e-03, -4.73016072e-03, -2.38241573e-03, -4.73016072e-03,\n",
       "       -4.73016072e-03, -4.73016072e-03, -3.43890097e-03, -4.55994920e-03,\n",
       "        1.13920176e-03, -4.73016072e-03,  1.28779267e-02, -4.14322447e-03,\n",
       "       -4.55407984e-03, -4.73016072e-03, -4.61277347e-03, -4.73016072e-03,\n",
       "       -4.19604873e-03,  7.24333873e-03, -4.73016072e-03, -3.96714360e-03,\n",
       "       -3.84975635e-03, -1.20854323e-03, -4.73016072e-03, -4.73016072e-03,\n",
       "       -4.73016072e-03, -4.73016072e-03, -4.73016072e-03,  1.28779267e-02,\n",
       "       -4.73016072e-03, -4.55407984e-03, -4.73016072e-03,  4.30865749e-03,\n",
       "       -4.37799897e-03, -4.70081390e-03,  1.13920176e-03, -4.73016072e-03,\n",
       "       -4.73016072e-03, -4.14322447e-03, -4.73016072e-03, -2.38241573e-03,\n",
       "       -4.73016072e-03, -3.55628822e-03, -3.55628822e-03, -4.63977253e-03,\n",
       "       -4.73016072e-03, -2.38241573e-03,  5.36514273e-03, -4.73016072e-03,\n",
       "       -4.37799897e-03, -4.73016072e-03, -4.73016072e-03, -4.73016072e-03,\n",
       "       -4.73016072e-03, -6.21606986e-04, -4.67146709e-03, -4.73016072e-03,\n",
       "       -4.10213893e-03, -4.37799897e-03, -3.55628822e-03, -4.44138808e-03,\n",
       "       -4.73016072e-03, -4.73016072e-03, -2.38241573e-03, -4.73016072e-03,\n",
       "        2.30044338e-01, -4.14322447e-03, -3.55628822e-03, -4.73016072e-03,\n",
       "       -4.73016072e-03,  9.35630922e-03, -4.73016072e-03,  2.31307425e-03,\n",
       "       -4.73016072e-03, -4.73016072e-03, -4.73016072e-03, -3.20412647e-03,\n",
       "       -4.73016072e-03, -4.49538622e-03,  3.36955949e-03, -4.73016072e-03,\n",
       "       -4.73016072e-03, -3.46707391e-05, -2.38241573e-03, -4.73016072e-03,\n",
       "       -4.49538622e-03, -4.73016072e-03, -4.49538622e-03])"
      ]
     },
     "execution_count": 39,
     "metadata": {},
     "output_type": "execute_result"
    }
   ],
   "source": [
    "predictionss = models.predict(Xs)\n",
    "predictionss"
   ]
  },
  {
   "cell_type": "code",
   "execution_count": 40,
   "id": "bdca13c4",
   "metadata": {},
   "outputs": [
    {
     "name": "stderr",
     "output_type": "stream",
     "text": [
      "C:\\Users\\ptlon\\Anaconda3\\lib\\site-packages\\seaborn\\distributions.py:2619: FutureWarning: `distplot` is a deprecated function and will be removed in a future version. Please adapt your code to use either `displot` (a figure-level function with similar flexibility) or `histplot` (an axes-level function for histograms).\n",
      "  warnings.warn(msg, FutureWarning)\n"
     ]
    },
    {
     "data": {
      "text/plain": [
       "<AxesSubplot:ylabel='Density'>"
      ]
     },
     "execution_count": 40,
     "metadata": {},
     "output_type": "execute_result"
    },
    {
     "data": {
      "image/png": "[encoded data removed]",
      "text/plain": [
       "<Figure size 432x288 with 1 Axes>"
      ]
     },
     "metadata": {},
     "output_type": "display_data"
    }
   ],
   "source": [
    "sns.distplot(predictionss-Ys)"
   ]
  },
  {
   "cell_type": "code",
   "execution_count": 41,
   "id": "d47945ac",
   "metadata": {},
   "outputs": [
    {
     "data": {
      "image/png": "[encoded data removed]",
      "text/plain": [
       "<Figure size 432x288 with 1 Axes>"
      ]
     },
     "metadata": {},
     "output_type": "display_data"
    }
   ],
   "source": [
    "plt.scatter(Xs, Ys, color = 'red')\n",
    "plt.plot(Xs, model.predict(Xs), color = 'blue')\n",
    "plt.title('Amount in USD vs GDP (Training set)')\n",
    "plt.xlabel('Amount in USD')\n",
    "plt.ylabel('GDP')\n",
    "plt.show()"
   ]
  },
  {
   "cell_type": "markdown",
   "id": "0fbc5b18",
   "metadata": {},
   "source": [
    "Convert categorical data into dummy or indicator variables"
   ]
  },
  {
   "cell_type": "code",
   "execution_count": 42,
   "id": "311d04d3",
   "metadata": {},
   "outputs": [
    {
     "data": {
      "text/html": [
       "<div>\n",
       "<style scoped>\n",
       "    .dataframe tbody tr th:only-of-type {\n",
       "        vertical-align: middle;\n",
       "    }\n",
       "\n",
       "    .dataframe tbody tr th {\n",
       "        vertical-align: top;\n",
       "    }\n",
       "\n",
       "    .dataframe thead th {\n",
       "        text-align: right;\n",
       "    }\n",
       "</style>\n",
       "<table border=\"1\" class=\"dataframe\">\n",
       "  <thead>\n",
       "    <tr style=\"text-align: right;\">\n",
       "      <th></th>\n",
       "      <th>Amount (In USD)</th>\n",
       "      <th>GDP</th>\n",
       "      <th>Amount (In USD)</th>\n",
       "      <th>GDP</th>\n",
       "    </tr>\n",
       "  </thead>\n",
       "  <tbody>\n",
       "    <tr>\n",
       "      <th>0</th>\n",
       "      <td>22500</td>\n",
       "      <td>117.703</td>\n",
       "      <td>22500</td>\n",
       "      <td>117.703</td>\n",
       "    </tr>\n",
       "    <tr>\n",
       "      <th>1</th>\n",
       "      <td>25000</td>\n",
       "      <td>117.703</td>\n",
       "      <td>25000</td>\n",
       "      <td>117.703</td>\n",
       "    </tr>\n",
       "    <tr>\n",
       "      <th>2</th>\n",
       "      <td>30000</td>\n",
       "      <td>117.703</td>\n",
       "      <td>30000</td>\n",
       "      <td>117.703</td>\n",
       "    </tr>\n",
       "    <tr>\n",
       "      <th>3</th>\n",
       "      <td>30000</td>\n",
       "      <td>117.703</td>\n",
       "      <td>30000</td>\n",
       "      <td>117.703</td>\n",
       "    </tr>\n",
       "    <tr>\n",
       "      <th>4</th>\n",
       "      <td>30000</td>\n",
       "      <td>117.703</td>\n",
       "      <td>30000</td>\n",
       "      <td>117.703</td>\n",
       "    </tr>\n",
       "  </tbody>\n",
       "</table>\n",
       "</div>"
      ],
      "text/plain": [
       "   Amount (In USD)      GDP  Amount (In USD)      GDP\n",
       "0            22500  117.703            22500  117.703\n",
       "1            25000  117.703            25000  117.703\n",
       "2            30000  117.703            30000  117.703\n",
       "3            30000  117.703            30000  117.703\n",
       "4            30000  117.703            30000  117.703"
      ]
     },
     "execution_count": 42,
     "metadata": {},
     "output_type": "execute_result"
    }
   ],
   "source": [
    "state_dummies = pd.get_dummies(df, prefix='State', drop_first=True) \n",
    "df = pd.concat([df, state_dummies], axis = 1)\n",
    "df.head()"
   ]
  },
  {
   "cell_type": "code",
   "execution_count": 43,
   "id": "ac10b155",
   "metadata": {},
   "outputs": [
    {
     "data": {
      "text/html": [
       "<div>\n",
       "<style scoped>\n",
       "    .dataframe tbody tr th:only-of-type {\n",
       "        vertical-align: middle;\n",
       "    }\n",
       "\n",
       "    .dataframe tbody tr th {\n",
       "        vertical-align: top;\n",
       "    }\n",
       "\n",
       "    .dataframe thead th {\n",
       "        text-align: right;\n",
       "    }\n",
       "</style>\n",
       "<table border=\"1\" class=\"dataframe\">\n",
       "  <thead>\n",
       "    <tr style=\"text-align: right;\">\n",
       "      <th></th>\n",
       "      <th>Amount (In USD)</th>\n",
       "      <th>GDP</th>\n",
       "      <th>Amount (In USD)</th>\n",
       "      <th>GDP</th>\n",
       "      <th>Amount (In USD)</th>\n",
       "      <th>GDP</th>\n",
       "      <th>Amount (In USD)</th>\n",
       "      <th>GDP</th>\n",
       "    </tr>\n",
       "  </thead>\n",
       "  <tbody>\n",
       "    <tr>\n",
       "      <th>0</th>\n",
       "      <td>22500</td>\n",
       "      <td>117.703</td>\n",
       "      <td>22500</td>\n",
       "      <td>117.703</td>\n",
       "      <td>22500</td>\n",
       "      <td>117.703</td>\n",
       "      <td>22500</td>\n",
       "      <td>117.703</td>\n",
       "    </tr>\n",
       "    <tr>\n",
       "      <th>1</th>\n",
       "      <td>25000</td>\n",
       "      <td>117.703</td>\n",
       "      <td>25000</td>\n",
       "      <td>117.703</td>\n",
       "      <td>25000</td>\n",
       "      <td>117.703</td>\n",
       "      <td>25000</td>\n",
       "      <td>117.703</td>\n",
       "    </tr>\n",
       "    <tr>\n",
       "      <th>2</th>\n",
       "      <td>30000</td>\n",
       "      <td>117.703</td>\n",
       "      <td>30000</td>\n",
       "      <td>117.703</td>\n",
       "      <td>30000</td>\n",
       "      <td>117.703</td>\n",
       "      <td>30000</td>\n",
       "      <td>117.703</td>\n",
       "    </tr>\n",
       "    <tr>\n",
       "      <th>3</th>\n",
       "      <td>30000</td>\n",
       "      <td>117.703</td>\n",
       "      <td>30000</td>\n",
       "      <td>117.703</td>\n",
       "      <td>30000</td>\n",
       "      <td>117.703</td>\n",
       "      <td>30000</td>\n",
       "      <td>117.703</td>\n",
       "    </tr>\n",
       "    <tr>\n",
       "      <th>4</th>\n",
       "      <td>30000</td>\n",
       "      <td>117.703</td>\n",
       "      <td>30000</td>\n",
       "      <td>117.703</td>\n",
       "      <td>30000</td>\n",
       "      <td>117.703</td>\n",
       "      <td>30000</td>\n",
       "      <td>117.703</td>\n",
       "    </tr>\n",
       "  </tbody>\n",
       "</table>\n",
       "</div>"
      ],
      "text/plain": [
       "   Amount (In USD)      GDP  Amount (In USD)      GDP  Amount (In USD)  \\\n",
       "0            22500  117.703            22500  117.703            22500   \n",
       "1            25000  117.703            25000  117.703            25000   \n",
       "2            30000  117.703            30000  117.703            30000   \n",
       "3            30000  117.703            30000  117.703            30000   \n",
       "4            30000  117.703            30000  117.703            30000   \n",
       "\n",
       "       GDP  Amount (In USD)      GDP  \n",
       "0  117.703            22500  117.703  \n",
       "1  117.703            25000  117.703  \n",
       "2  117.703            30000  117.703  \n",
       "3  117.703            30000  117.703  \n",
       "4  117.703            30000  117.703  "
      ]
     },
     "execution_count": 43,
     "metadata": {},
     "output_type": "execute_result"
    }
   ],
   "source": [
    "Industry_dummies = pd.get_dummies(df, prefix='Industry') \n",
    "df = pd.concat([df, Industry_dummies], axis = 1)\n",
    "df.head()"
   ]
  },
  {
   "cell_type": "code",
   "execution_count": 44,
   "id": "c23bd0b3",
   "metadata": {},
   "outputs": [],
   "source": [
    "df.to_excel(\"Amount (In USD)_dummies.xlsx\")"
   ]
  },
  {
   "cell_type": "code",
   "execution_count": 45,
   "id": "11ed37b8",
   "metadata": {},
   "outputs": [],
   "source": [
    "data = df[[\"Amount (In USD)\", 'GDP']]"
   ]
  },
  {
   "cell_type": "code",
   "execution_count": 46,
   "id": "ca74ad00",
   "metadata": {},
   "outputs": [],
   "source": [
    "# split into inputs and outputs\n",
    "X, y = data.iloc[:, :-1], data.iloc[:, -1]"
   ]
  },
  {
   "cell_type": "code",
   "execution_count": 47,
   "id": "727a2bf1",
   "metadata": {},
   "outputs": [
    {
     "name": "stdout",
     "output_type": "stream",
     "text": [
      "(495, 7) (495,)\n"
     ]
    }
   ],
   "source": [
    "print(X.shape, y.shape)"
   ]
  },
  {
   "cell_type": "code",
   "execution_count": 48,
   "id": "a4bd9406",
   "metadata": {},
   "outputs": [
    {
     "name": "stdout",
     "output_type": "stream",
     "text": [
      "(331, 7) (164, 7) (331,) (164,)\n"
     ]
    }
   ],
   "source": [
    "# split a dataset into train and test sets\n",
    "from sklearn.datasets import make_blobs\n",
    "from sklearn.model_selection import train_test_split\n",
    "\n",
    "# split into train test sets\n",
    "X_train, X_test, y_train, y_test = train_test_split(X, y, test_size=0.33, random_state=1)\n",
    "print(X_train.shape, X_test.shape, y_train.shape, y_test.shape)"
   ]
  },
  {
   "cell_type": "code",
   "execution_count": 49,
   "id": "7fc96311",
   "metadata": {},
   "outputs": [
    {
     "name": "stdout",
     "output_type": "stream",
     "text": [
      "(331, 7) (164, 7) (331,) (164,)\n"
     ]
    }
   ],
   "source": [
    "# split a dataset into train and test sets\n",
    "from sklearn.datasets import make_blobs\n",
    "from sklearn.model_selection import train_test_split\n",
    "\n",
    "# split into train test sets\n",
    "X_train, X_test, y_train, y_test = train_test_split(X, y, test_size=0.33, random_state=1)\n",
    "print(X_train.shape, X_test.shape, y_train.shape, y_test.shape)"
   ]
  },
  {
   "cell_type": "code",
   "execution_count": 50,
   "id": "d262b81f",
   "metadata": {},
   "outputs": [
    {
     "data": {
      "text/plain": [
       "RandomForestRegressor(random_state=1)"
      ]
     },
     "execution_count": 50,
     "metadata": {},
     "output_type": "execute_result"
    }
   ],
   "source": [
    "from sklearn.ensemble import RandomForestRegressor\n",
    "# fit the model\n",
    "model = RandomForestRegressor(random_state=1)\n",
    "model.fit(X_train, y_train)"
   ]
  },
  {
   "cell_type": "code",
   "execution_count": 51,
   "id": "c85a872d",
   "metadata": {},
   "outputs": [],
   "source": [
    "# make predictions\n",
    "yhat = model.predict(X_test)"
   ]
  },
  {
   "cell_type": "code",
   "execution_count": 52,
   "id": "eeb3705b",
   "metadata": {},
   "outputs": [
    {
     "name": "stderr",
     "output_type": "stream",
     "text": [
      "C:\\Users\\ptlon\\Anaconda3\\lib\\site-packages\\seaborn\\distributions.py:2619: FutureWarning: `distplot` is a deprecated function and will be removed in a future version. Please adapt your code to use either `displot` (a figure-level function with similar flexibility) or `histplot` (an axes-level function for histograms).\n",
      "  warnings.warn(msg, FutureWarning)\n"
     ]
    },
    {
     "data": {
      "text/plain": [
       "<AxesSubplot:xlabel='GDP', ylabel='Density'>"
      ]
     },
     "execution_count": 52,
     "metadata": {},
     "output_type": "execute_result"
    },
    {
     "data": {
      "image/png": "[encoded data removed]",
      "text/plain": [
       "<Figure size 432x288 with 1 Axes>"
      ]
     },
     "metadata": {},
     "output_type": "display_data"
    }
   ],
   "source": [
    "sns.distplot(yhat-y_test)\n"
   ]
  },
  {
   "cell_type": "code",
   "execution_count": 53,
   "id": "8ec9b72a",
   "metadata": {},
   "outputs": [
    {
     "name": "stderr",
     "output_type": "stream",
     "text": [
      "C:\\Users\\ptlon\\Anaconda3\\lib\\site-packages\\seaborn\\distributions.py:2619: FutureWarning: `distplot` is a deprecated function and will be removed in a future version. Please adapt your code to use either `displot` (a figure-level function with similar flexibility) or `histplot` (an axes-level function for histograms).\n",
      "  warnings.warn(msg, FutureWarning)\n"
     ]
    },
    {
     "data": {
      "text/plain": [
       "<AxesSubplot:xlabel='GDP', ylabel='Density'>"
      ]
     },
     "execution_count": 53,
     "metadata": {},
     "output_type": "execute_result"
    },
    {
     "data": {
      "image/png": "[encoded data removed]",
      "text/plain": [
       "<Figure size 432x288 with 1 Axes>"
      ]
     },
     "metadata": {},
     "output_type": "display_data"
    }
   ],
   "source": [
    "sns.distplot(yhat-y_test)"
   ]
  },
  {
   "cell_type": "markdown",
   "id": "d41896d4",
   "metadata": {},
   "source": []
  }
 ],
 "metadata": {
  "kernelspec": {
   "display_name": "Python 3 (ipykernel)",
   "language": "python",
   "name": "python3"
  },
  "language_info": {
   "codemirror_mode": {
    "name": "ipython",
    "version": 3
   },
   "file_extension": ".py",
   "mimetype": "text/x-python",
   "name": "python",
   "nbconvert_exporter": "python",
   "pygments_lexer": "ipython3",
   "version": "3.9.7"
  }
 },
 "nbformat": 4,
 "nbformat_minor": 5
}
