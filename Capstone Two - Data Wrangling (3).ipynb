{
 "cells": [
  {
   "cell_type": "markdown",
   "id": "29769ecd",
   "metadata": {},
   "source": [
    "# Capstone Two - Data Wrangling\n",
    "\n",
    "Goal: Organize your data to streamline the next steps of your\n",
    "capstone.\n",
    "\n",
    "I wil Create a file structure and add your work to the GitHub\n",
    "repository I've created for this project. I will then Gain an understanding of my data features to inform the\n",
    "next steps of your project. Finally I will Clean up the data in order to prepare it for the next steps of\n",
    "my project.\n",
    "\n",
    "\n"
   ]
  },
  {
   "cell_type": "code",
   "execution_count": 2,
   "id": "e7e9e97c",
   "metadata": {},
   "outputs": [],
   "source": [
    "#Importing Pandas\n",
    "import pandas as pd"
   ]
  },
  {
   "cell_type": "markdown",
   "id": "4576f0c3",
   "metadata": {},
   "source": [
    "loading the start-up data, and displaying the top lines\n"
   ]
  },
  {
   "cell_type": "code",
   "execution_count": 3,
   "id": "b2061c63",
   "metadata": {},
   "outputs": [
    {
     "data": {
      "text/html": [
       "<div>\n",
       "<style scoped>\n",
       "    .dataframe tbody tr th:only-of-type {\n",
       "        vertical-align: middle;\n",
       "    }\n",
       "\n",
       "    .dataframe tbody tr th {\n",
       "        vertical-align: top;\n",
       "    }\n",
       "\n",
       "    .dataframe thead th {\n",
       "        text-align: right;\n",
       "    }\n",
       "</style>\n",
       "<table border=\"1\" class=\"dataframe\">\n",
       "  <thead>\n",
       "    <tr style=\"text-align: right;\">\n",
       "      <th></th>\n",
       "      <th>Date</th>\n",
       "      <th>Startup Name</th>\n",
       "      <th>Industry</th>\n",
       "      <th>Sub-Vertical</th>\n",
       "      <th>State</th>\n",
       "      <th>Investors’ Name</th>\n",
       "      <th>Investment Type</th>\n",
       "      <th>Amount (In USD)</th>\n",
       "    </tr>\n",
       "  </thead>\n",
       "  <tbody>\n",
       "    <tr>\n",
       "      <th>0</th>\n",
       "      <td>2/17/2016</td>\n",
       "      <td>The Viral Fever</td>\n",
       "      <td>Consumer Internet</td>\n",
       "      <td>Independent Online Video production company</td>\n",
       "      <td>Mumbai</td>\n",
       "      <td>Tiger Global</td>\n",
       "      <td>Private Equity</td>\n",
       "      <td>10</td>\n",
       "    </tr>\n",
       "    <tr>\n",
       "      <th>1</th>\n",
       "      <td>1/19/2015</td>\n",
       "      <td>CBS</td>\n",
       "      <td>Industry / Vertical</td>\n",
       "      <td>Sub-Vertical</td>\n",
       "      <td>City / Location</td>\n",
       "      <td>Hyderabad Angels (at Startup Heroes event)</td>\n",
       "      <td>Seed Funding</td>\n",
       "      <td>16,000</td>\n",
       "    </tr>\n",
       "    <tr>\n",
       "      <th>2</th>\n",
       "      <td>1/19/2015</td>\n",
       "      <td>Enabli</td>\n",
       "      <td>Industry / Vertical</td>\n",
       "      <td>Sub-Vertical</td>\n",
       "      <td>City / Location</td>\n",
       "      <td>Hyderabad Angels (at Startup Heroes event)</td>\n",
       "      <td>Seed Funding</td>\n",
       "      <td>16,000</td>\n",
       "    </tr>\n",
       "    <tr>\n",
       "      <th>3</th>\n",
       "      <td>1/19/2015</td>\n",
       "      <td>Yo Grad</td>\n",
       "      <td>Industry / Vertical</td>\n",
       "      <td>Sub-Vertical</td>\n",
       "      <td>City / Location</td>\n",
       "      <td>Hyderabad Angels (at Startup Heroes event)</td>\n",
       "      <td>Seed Funding</td>\n",
       "      <td>16,000</td>\n",
       "    </tr>\n",
       "    <tr>\n",
       "      <th>4</th>\n",
       "      <td>1/19/2015</td>\n",
       "      <td>Play your sport</td>\n",
       "      <td>Industry / Vertical</td>\n",
       "      <td>Sub-Vertical</td>\n",
       "      <td>City / Location</td>\n",
       "      <td>Hyderabad Angels (at Startup Heroes event)</td>\n",
       "      <td>Seed Funding</td>\n",
       "      <td>16,000</td>\n",
       "    </tr>\n",
       "  </tbody>\n",
       "</table>\n",
       "</div>"
      ],
      "text/plain": [
       "        Date     Startup Name             Industry  \\\n",
       "0  2/17/2016  The Viral Fever    Consumer Internet   \n",
       "1  1/19/2015              CBS  Industry / Vertical   \n",
       "2  1/19/2015           Enabli  Industry / Vertical   \n",
       "3  1/19/2015          Yo Grad  Industry / Vertical   \n",
       "4  1/19/2015  Play your sport  Industry / Vertical   \n",
       "\n",
       "                                  Sub-Vertical            State  \\\n",
       "0  Independent Online Video production company           Mumbai   \n",
       "1                                 Sub-Vertical  City / Location   \n",
       "2                                 Sub-Vertical  City / Location   \n",
       "3                                 Sub-Vertical  City / Location   \n",
       "4                                 Sub-Vertical  City / Location   \n",
       "\n",
       "                              Investors’ Name Investment Type Amount (In USD)  \n",
       "0                                Tiger Global  Private Equity              10  \n",
       "1  Hyderabad Angels (at Startup Heroes event)    Seed Funding          16,000  \n",
       "2  Hyderabad Angels (at Startup Heroes event)    Seed Funding          16,000  \n",
       "3  Hyderabad Angels (at Startup Heroes event)    Seed Funding          16,000  \n",
       "4  Hyderabad Angels (at Startup Heroes event)    Seed Funding          16,000  "
      ]
     },
     "execution_count": 3,
     "metadata": {},
     "output_type": "execute_result"
    }
   ],
   "source": [
    "startup = pd.read_csv(r\"C:\\Users\\ptlon\\OneDrive\\Desktop\\startup_funding_v4.csv\")\n",
    "startup.head()"
   ]
  },
  {
   "cell_type": "markdown",
   "id": "18e8ac2e",
   "metadata": {},
   "source": [
    "loading the GDP data, and displaying the top lines\n"
   ]
  },
  {
   "cell_type": "code",
   "execution_count": 4,
   "id": "9abab512",
   "metadata": {},
   "outputs": [
    {
     "data": {
      "text/html": [
       "<div>\n",
       "<style scoped>\n",
       "    .dataframe tbody tr th:only-of-type {\n",
       "        vertical-align: middle;\n",
       "    }\n",
       "\n",
       "    .dataframe tbody tr th {\n",
       "        vertical-align: top;\n",
       "    }\n",
       "\n",
       "    .dataframe thead th {\n",
       "        text-align: right;\n",
       "    }\n",
       "</style>\n",
       "<table border=\"1\" class=\"dataframe\">\n",
       "  <thead>\n",
       "    <tr style=\"text-align: right;\">\n",
       "      <th></th>\n",
       "      <th>Rank</th>\n",
       "      <th>State</th>\n",
       "      <th>GDP</th>\n",
       "    </tr>\n",
       "  </thead>\n",
       "  <tbody>\n",
       "    <tr>\n",
       "      <th>0</th>\n",
       "      <td>1</td>\n",
       "      <td>Maharashtra</td>\n",
       "      <td>399.921</td>\n",
       "    </tr>\n",
       "    <tr>\n",
       "      <th>1</th>\n",
       "      <td>2</td>\n",
       "      <td>Tamil Nadu</td>\n",
       "      <td>247.629</td>\n",
       "    </tr>\n",
       "    <tr>\n",
       "      <th>2</th>\n",
       "      <td>3</td>\n",
       "      <td>Uttar Pradesh</td>\n",
       "      <td>240.726</td>\n",
       "    </tr>\n",
       "    <tr>\n",
       "      <th>3</th>\n",
       "      <td>4</td>\n",
       "      <td>Gujarat</td>\n",
       "      <td>228.290</td>\n",
       "    </tr>\n",
       "    <tr>\n",
       "      <th>4</th>\n",
       "      <td>5</td>\n",
       "      <td>Karnataka</td>\n",
       "      <td>226.806</td>\n",
       "    </tr>\n",
       "  </tbody>\n",
       "</table>\n",
       "</div>"
      ],
      "text/plain": [
       "   Rank          State      GDP\n",
       "0     1    Maharashtra  399.921\n",
       "1     2     Tamil Nadu  247.629\n",
       "2     3  Uttar Pradesh  240.726\n",
       "3     4        Gujarat  228.290\n",
       "4     5      Karnataka  226.806"
      ]
     },
     "execution_count": 4,
     "metadata": {},
     "output_type": "execute_result"
    }
   ],
   "source": [
    "#loading GDP 2017 per state data, and reading displaying the top lines\n",
    "GDP = pd.read_excel(r'C:\\Users\\ptlon\\Downloads\\Indian GDP 2017 New.xlsx')\n",
    "GDP.head()"
   ]
  },
  {
   "cell_type": "markdown",
   "id": "35fb072e",
   "metadata": {},
   "source": [
    "Taking a look at the data sets"
   ]
  },
  {
   "cell_type": "code",
   "execution_count": 5,
   "id": "08b55dda",
   "metadata": {},
   "outputs": [
    {
     "data": {
      "text/plain": [
       "Bengaluru          868\n",
       "Mumbai             581\n",
       "Delhi              470\n",
       "Gurugram           353\n",
       "City / Location    171\n",
       "                  ... \n",
       "Boston               1\n",
       "US/India             1\n",
       "New York/ India      1\n",
       "SFO / Bangalore      1\n",
       "Nw Delhi             1\n",
       "Name: State, Length: 111, dtype: int64"
      ]
     },
     "execution_count": 5,
     "metadata": {},
     "output_type": "execute_result"
    }
   ],
   "source": [
    "\n",
    "startup['State'].value_counts()"
   ]
  },
  {
   "cell_type": "markdown",
   "id": "c67eba4b",
   "metadata": {},
   "source": [
    "removing all data that doesnt fit into a usable location"
   ]
  },
  {
   "cell_type": "code",
   "execution_count": 6,
   "id": "71d55ad8",
   "metadata": {},
   "outputs": [],
   "source": [
    "\n",
    "startup = startup[startup.State != 'City / Location']"
   ]
  },
  {
   "cell_type": "code",
   "execution_count": 7,
   "id": "a2cc4f03",
   "metadata": {
    "scrolled": true
   },
   "outputs": [
    {
     "data": {
      "text/html": [
       "<div>\n",
       "<style scoped>\n",
       "    .dataframe tbody tr th:only-of-type {\n",
       "        vertical-align: middle;\n",
       "    }\n",
       "\n",
       "    .dataframe tbody tr th {\n",
       "        vertical-align: top;\n",
       "    }\n",
       "\n",
       "    .dataframe thead th {\n",
       "        text-align: right;\n",
       "    }\n",
       "</style>\n",
       "<table border=\"1\" class=\"dataframe\">\n",
       "  <thead>\n",
       "    <tr style=\"text-align: right;\">\n",
       "      <th></th>\n",
       "      <th>Date</th>\n",
       "      <th>Startup Name</th>\n",
       "      <th>Industry</th>\n",
       "      <th>Sub-Vertical</th>\n",
       "      <th>State</th>\n",
       "      <th>Investors’ Name</th>\n",
       "      <th>Investment Type</th>\n",
       "      <th>Amount (In USD)</th>\n",
       "    </tr>\n",
       "  </thead>\n",
       "  <tbody>\n",
       "    <tr>\n",
       "      <th>0</th>\n",
       "      <td>2/17/2016</td>\n",
       "      <td>The Viral Fever</td>\n",
       "      <td>Consumer Internet</td>\n",
       "      <td>Independent Online Video production company</td>\n",
       "      <td>Mumbai</td>\n",
       "      <td>Tiger Global</td>\n",
       "      <td>Private Equity</td>\n",
       "      <td>10</td>\n",
       "    </tr>\n",
       "    <tr>\n",
       "      <th>12</th>\n",
       "      <td>1/30/2017</td>\n",
       "      <td>Maptags</td>\n",
       "      <td>Consumer Internet</td>\n",
       "      <td>Smart Online address tags</td>\n",
       "      <td>Bengaluru</td>\n",
       "      <td>The Ten Minute Million</td>\n",
       "      <td>Seed Funding</td>\n",
       "      <td>18,000</td>\n",
       "    </tr>\n",
       "    <tr>\n",
       "      <th>13</th>\n",
       "      <td>7/8/2015</td>\n",
       "      <td>33Coupons</td>\n",
       "      <td>Coupon Aggregator Platform</td>\n",
       "      <td>Coupon Aggregator Platform</td>\n",
       "      <td>Kanpur</td>\n",
       "      <td>Not Disclosed</td>\n",
       "      <td>Seed Funding</td>\n",
       "      <td>20,000</td>\n",
       "    </tr>\n",
       "    <tr>\n",
       "      <th>14</th>\n",
       "      <td>2/2/2016</td>\n",
       "      <td>Strike</td>\n",
       "      <td>Consumer Internet</td>\n",
       "      <td>Mobile Email productivity tool</td>\n",
       "      <td>Bengaluru</td>\n",
       "      <td>Multiple investors through Ten Minute Million ...</td>\n",
       "      <td>Seed Funding</td>\n",
       "      <td>22,500</td>\n",
       "    </tr>\n",
       "    <tr>\n",
       "      <th>15</th>\n",
       "      <td>2/2/2016</td>\n",
       "      <td>Gamooz</td>\n",
       "      <td>Technology</td>\n",
       "      <td>Augmented Reality Solutions</td>\n",
       "      <td>Gurugram</td>\n",
       "      <td>Multiple investors through Ten Minute Million ...</td>\n",
       "      <td>Seed Funding</td>\n",
       "      <td>22,500</td>\n",
       "    </tr>\n",
       "  </tbody>\n",
       "</table>\n",
       "</div>"
      ],
      "text/plain": [
       "         Date     Startup Name                    Industry  \\\n",
       "0   2/17/2016  The Viral Fever           Consumer Internet   \n",
       "12  1/30/2017          Maptags           Consumer Internet   \n",
       "13   7/8/2015        33Coupons  Coupon Aggregator Platform   \n",
       "14   2/2/2016           Strike           Consumer Internet   \n",
       "15   2/2/2016           Gamooz                  Technology   \n",
       "\n",
       "                                   Sub-Vertical      State  \\\n",
       "0   Independent Online Video production company     Mumbai   \n",
       "12                    Smart Online address tags  Bengaluru   \n",
       "13                   Coupon Aggregator Platform     Kanpur   \n",
       "14               Mobile Email productivity tool  Bengaluru   \n",
       "15                  Augmented Reality Solutions   Gurugram   \n",
       "\n",
       "                                      Investors’ Name Investment Type  \\\n",
       "0                                        Tiger Global  Private Equity   \n",
       "12                             The Ten Minute Million    Seed Funding   \n",
       "13                                      Not Disclosed    Seed Funding   \n",
       "14  Multiple investors through Ten Minute Million ...    Seed Funding   \n",
       "15  Multiple investors through Ten Minute Million ...    Seed Funding   \n",
       "\n",
       "   Amount (In USD)  \n",
       "0               10  \n",
       "12          18,000  \n",
       "13          20,000  \n",
       "14          22,500  \n",
       "15          22,500  "
      ]
     },
     "execution_count": 7,
     "metadata": {},
     "output_type": "execute_result"
    }
   ],
   "source": [
    "startup.head()"
   ]
  },
  {
   "cell_type": "markdown",
   "id": "6c74f03a",
   "metadata": {},
   "source": [
    "making sure there are still enough data points"
   ]
  },
  {
   "cell_type": "code",
   "execution_count": 8,
   "id": "23297788",
   "metadata": {},
   "outputs": [
    {
     "data": {
      "text/plain": [
       "Bengaluru          868\n",
       "Mumbai             581\n",
       "Delhi              470\n",
       "Gurugram           353\n",
       "Pune               112\n",
       "                  ... \n",
       "Boston               1\n",
       "US/India             1\n",
       "New York/ India      1\n",
       "SFO / Bangalore      1\n",
       "Nw Delhi             1\n",
       "Name: State, Length: 110, dtype: int64"
      ]
     },
     "execution_count": 8,
     "metadata": {},
     "output_type": "execute_result"
    }
   ],
   "source": [
    " \n",
    "startup['State'].value_counts()"
   ]
  },
  {
   "cell_type": "markdown",
   "id": "7e2d237d",
   "metadata": {},
   "source": [
    "# merging on 'State'"
   ]
  },
  {
   "cell_type": "code",
   "execution_count": 9,
   "id": "9ae2efea",
   "metadata": {},
   "outputs": [],
   "source": [
    "startup_state_gdp = pd.merge(startup, GDP, on=\"State\") "
   ]
  },
  {
   "cell_type": "code",
   "execution_count": 11,
   "id": "017097d8",
   "metadata": {},
   "outputs": [
    {
     "data": {
      "text/html": [
       "<div>\n",
       "<style scoped>\n",
       "    .dataframe tbody tr th:only-of-type {\n",
       "        vertical-align: middle;\n",
       "    }\n",
       "\n",
       "    .dataframe tbody tr th {\n",
       "        vertical-align: top;\n",
       "    }\n",
       "\n",
       "    .dataframe thead th {\n",
       "        text-align: right;\n",
       "    }\n",
       "</style>\n",
       "<table border=\"1\" class=\"dataframe\">\n",
       "  <thead>\n",
       "    <tr style=\"text-align: right;\">\n",
       "      <th></th>\n",
       "      <th>Date</th>\n",
       "      <th>Startup Name</th>\n",
       "      <th>Industry</th>\n",
       "      <th>Sub-Vertical</th>\n",
       "      <th>State</th>\n",
       "      <th>Investors’ Name</th>\n",
       "      <th>Investment Type</th>\n",
       "      <th>Amount (In USD)</th>\n",
       "      <th>Rank</th>\n",
       "      <th>GDP</th>\n",
       "    </tr>\n",
       "  </thead>\n",
       "  <tbody>\n",
       "    <tr>\n",
       "      <th>0</th>\n",
       "      <td>1/30/2017</td>\n",
       "      <td>Cloudrino</td>\n",
       "      <td>Technology</td>\n",
       "      <td>Cloud based Virtual Servers</td>\n",
       "      <td>Delhi</td>\n",
       "      <td>The Ten Minute Million</td>\n",
       "      <td>Seed Funding</td>\n",
       "      <td>22,500</td>\n",
       "      <td>12</td>\n",
       "      <td>117.703</td>\n",
       "    </tr>\n",
       "    <tr>\n",
       "      <th>1</th>\n",
       "      <td>10/14/2016</td>\n",
       "      <td>Newspatrolling</td>\n",
       "      <td>Consumer Internet</td>\n",
       "      <td>Online News portal</td>\n",
       "      <td>Delhi</td>\n",
       "      <td>Undisclosed</td>\n",
       "      <td>Seed Funding</td>\n",
       "      <td>25,000</td>\n",
       "      <td>12</td>\n",
       "      <td>117.703</td>\n",
       "    </tr>\n",
       "    <tr>\n",
       "      <th>2</th>\n",
       "      <td>3/7/2017</td>\n",
       "      <td>Book Servicing</td>\n",
       "      <td>Consumer Internet</td>\n",
       "      <td>Online Vehicle Services Booking platform</td>\n",
       "      <td>Delhi</td>\n",
       "      <td>National Science and Technology Entrepreneursh...</td>\n",
       "      <td>Seed Funding</td>\n",
       "      <td>30,000</td>\n",
       "      <td>12</td>\n",
       "      <td>117.703</td>\n",
       "    </tr>\n",
       "    <tr>\n",
       "      <th>3</th>\n",
       "      <td>3/19/2016</td>\n",
       "      <td>goSporto</td>\n",
       "      <td>Consumer Internet</td>\n",
       "      <td>Online Sports discovery and booking platform</td>\n",
       "      <td>Delhi</td>\n",
       "      <td>Naveen Gupta</td>\n",
       "      <td>Seed Funding</td>\n",
       "      <td>30,000</td>\n",
       "      <td>12</td>\n",
       "      <td>117.703</td>\n",
       "    </tr>\n",
       "    <tr>\n",
       "      <th>4</th>\n",
       "      <td>2/4/2016</td>\n",
       "      <td>Perfumery</td>\n",
       "      <td>ECommerce</td>\n",
       "      <td>Fragrances &amp; Perfume eTailer</td>\n",
       "      <td>Delhi</td>\n",
       "      <td>Oranda Global &amp; Others</td>\n",
       "      <td>Seed Funding</td>\n",
       "      <td>30,000</td>\n",
       "      <td>12</td>\n",
       "      <td>117.703</td>\n",
       "    </tr>\n",
       "  </tbody>\n",
       "</table>\n",
       "</div>"
      ],
      "text/plain": [
       "         Date    Startup Name           Industry  \\\n",
       "0   1/30/2017       Cloudrino         Technology   \n",
       "1  10/14/2016  Newspatrolling  Consumer Internet   \n",
       "2    3/7/2017  Book Servicing  Consumer Internet   \n",
       "3   3/19/2016        goSporto  Consumer Internet   \n",
       "4    2/4/2016       Perfumery          ECommerce   \n",
       "\n",
       "                                   Sub-Vertical  State  \\\n",
       "0                   Cloud based Virtual Servers  Delhi   \n",
       "1                            Online News portal  Delhi   \n",
       "2      Online Vehicle Services Booking platform  Delhi   \n",
       "3  Online Sports discovery and booking platform  Delhi   \n",
       "4                  Fragrances & Perfume eTailer  Delhi   \n",
       "\n",
       "                                     Investors’ Name Investment Type  \\\n",
       "0                             The Ten Minute Million    Seed Funding   \n",
       "1                                        Undisclosed    Seed Funding   \n",
       "2  National Science and Technology Entrepreneursh...    Seed Funding   \n",
       "3                                       Naveen Gupta    Seed Funding   \n",
       "4                             Oranda Global & Others    Seed Funding   \n",
       "\n",
       "  Amount (In USD)  Rank      GDP  \n",
       "0          22,500    12  117.703  \n",
       "1          25,000    12  117.703  \n",
       "2          30,000    12  117.703  \n",
       "3          30,000    12  117.703  \n",
       "4          30,000    12  117.703  "
      ]
     },
     "execution_count": 11,
     "metadata": {},
     "output_type": "execute_result"
    }
   ],
   "source": [
    "startup_state_gdp.head()"
   ]
  },
  {
   "cell_type": "code",
   "execution_count": 12,
   "id": "b7536282",
   "metadata": {},
   "outputs": [
    {
     "data": {
      "text/plain": [
       "Date                object\n",
       "Startup Name        object\n",
       "Industry            object\n",
       "Sub-Vertical        object\n",
       "State               object\n",
       "Investors’ Name     object\n",
       "Investment Type     object\n",
       "Amount (In USD)     object\n",
       "Rank                 int64\n",
       "GDP                float64\n",
       "dtype: object"
      ]
     },
     "execution_count": 12,
     "metadata": {},
     "output_type": "execute_result"
    }
   ],
   "source": [
    "startup_state_gdp.dtypes"
   ]
  },
  {
   "cell_type": "code",
   "execution_count": 13,
   "id": "762569d3",
   "metadata": {},
   "outputs": [
    {
     "data": {
      "text/html": [
       "<div>\n",
       "<style scoped>\n",
       "    .dataframe tbody tr th:only-of-type {\n",
       "        vertical-align: middle;\n",
       "    }\n",
       "\n",
       "    .dataframe tbody tr th {\n",
       "        vertical-align: top;\n",
       "    }\n",
       "\n",
       "    .dataframe thead th {\n",
       "        text-align: right;\n",
       "    }\n",
       "</style>\n",
       "<table border=\"1\" class=\"dataframe\">\n",
       "  <thead>\n",
       "    <tr style=\"text-align: right;\">\n",
       "      <th></th>\n",
       "      <th>Rank</th>\n",
       "      <th>GDP</th>\n",
       "    </tr>\n",
       "  </thead>\n",
       "  <tbody>\n",
       "    <tr>\n",
       "      <th>count</th>\n",
       "      <td>495.000000</td>\n",
       "      <td>495.000000</td>\n",
       "    </tr>\n",
       "    <tr>\n",
       "      <th>mean</th>\n",
       "      <td>12.478788</td>\n",
       "      <td>113.534770</td>\n",
       "    </tr>\n",
       "    <tr>\n",
       "      <th>std</th>\n",
       "      <td>2.500011</td>\n",
       "      <td>23.307769</td>\n",
       "    </tr>\n",
       "    <tr>\n",
       "      <th>min</th>\n",
       "      <td>3.000000</td>\n",
       "      <td>6.397000</td>\n",
       "    </tr>\n",
       "    <tr>\n",
       "      <th>25%</th>\n",
       "      <td>12.000000</td>\n",
       "      <td>117.703000</td>\n",
       "    </tr>\n",
       "    <tr>\n",
       "      <th>50%</th>\n",
       "      <td>12.000000</td>\n",
       "      <td>117.703000</td>\n",
       "    </tr>\n",
       "    <tr>\n",
       "      <th>75%</th>\n",
       "      <td>12.000000</td>\n",
       "      <td>117.703000</td>\n",
       "    </tr>\n",
       "    <tr>\n",
       "      <th>max</th>\n",
       "      <td>25.000000</td>\n",
       "      <td>240.726000</td>\n",
       "    </tr>\n",
       "  </tbody>\n",
       "</table>\n",
       "</div>"
      ],
      "text/plain": [
       "             Rank         GDP\n",
       "count  495.000000  495.000000\n",
       "mean    12.478788  113.534770\n",
       "std      2.500011   23.307769\n",
       "min      3.000000    6.397000\n",
       "25%     12.000000  117.703000\n",
       "50%     12.000000  117.703000\n",
       "75%     12.000000  117.703000\n",
       "max     25.000000  240.726000"
      ]
     },
     "execution_count": 13,
     "metadata": {},
     "output_type": "execute_result"
    }
   ],
   "source": [
    "startup_state_gdp.describe()"
   ]
  },
  {
   "cell_type": "code",
   "execution_count": 14,
   "id": "99a3f126",
   "metadata": {},
   "outputs": [
    {
     "data": {
      "text/plain": [
       "count           495\n",
       "unique          373\n",
       "top       2/22/2016\n",
       "freq              4\n",
       "Name: Date, dtype: object"
      ]
     },
     "execution_count": 14,
     "metadata": {},
     "output_type": "execute_result"
    }
   ],
   "source": [
    "startup_state_gdp['Date'].describe()"
   ]
  },
  {
   "cell_type": "code",
   "execution_count": 15,
   "id": "4f0bb47b",
   "metadata": {},
   "outputs": [
    {
     "data": {
      "text/plain": [
       "count        495\n",
       "unique       426\n",
       "top       Jugnoo\n",
       "freq           5\n",
       "Name: Startup Name, dtype: object"
      ]
     },
     "execution_count": 15,
     "metadata": {},
     "output_type": "execute_result"
    }
   ],
   "source": [
    "startup_state_gdp['Startup Name'].describe()"
   ]
  },
  {
   "cell_type": "code",
   "execution_count": 16,
   "id": "fcd42fe0",
   "metadata": {},
   "outputs": [
    {
     "data": {
      "text/plain": [
       "count                   495\n",
       "unique                  170\n",
       "top       Consumer Internet\n",
       "freq                    155\n",
       "Name: Industry, dtype: object"
      ]
     },
     "execution_count": 16,
     "metadata": {},
     "output_type": "execute_result"
    }
   ],
   "source": [
    "startup_state_gdp['Industry'].describe()"
   ]
  },
  {
   "cell_type": "code",
   "execution_count": 17,
   "id": "47b3dcab",
   "metadata": {},
   "outputs": [
    {
     "data": {
      "text/plain": [
       "count                      495\n",
       "unique                     479\n",
       "top       Education/E-learning\n",
       "freq                         3\n",
       "Name: Sub-Vertical, dtype: object"
      ]
     },
     "execution_count": 17,
     "metadata": {},
     "output_type": "execute_result"
    }
   ],
   "source": [
    "startup_state_gdp['Sub-Vertical'].describe()"
   ]
  },
  {
   "cell_type": "code",
   "execution_count": 18,
   "id": "bc526a9a",
   "metadata": {},
   "outputs": [
    {
     "data": {
      "text/plain": [
       "count       495\n",
       "unique        7\n",
       "top       Delhi\n",
       "freq        470\n",
       "Name: State, dtype: object"
      ]
     },
     "execution_count": 18,
     "metadata": {},
     "output_type": "execute_result"
    }
   ],
   "source": [
    "startup_state_gdp['State'].describe()"
   ]
  },
  {
   "cell_type": "code",
   "execution_count": 19,
   "id": "c701bd92",
   "metadata": {},
   "outputs": [
    {
     "data": {
      "text/plain": [
       "count                      491\n",
       "unique                     436\n",
       "top       Indian Angel Network\n",
       "freq                         9\n",
       "Name: Investors’ Name, dtype: object"
      ]
     },
     "execution_count": 19,
     "metadata": {},
     "output_type": "execute_result"
    }
   ],
   "source": [
    "startup_state_gdp['Investors’ Name'].describe()"
   ]
  },
  {
   "cell_type": "code",
   "execution_count": 20,
   "id": "fd889a50",
   "metadata": {},
   "outputs": [
    {
     "data": {
      "text/plain": [
       "count              495\n",
       "unique              17\n",
       "top       Seed Funding\n",
       "freq               272\n",
       "Name: Investment Type, dtype: object"
      ]
     },
     "execution_count": 20,
     "metadata": {},
     "output_type": "execute_result"
    }
   ],
   "source": [
    "startup_state_gdp['Investment Type'].describe()"
   ]
  },
  {
   "cell_type": "code",
   "execution_count": 21,
   "id": "642cbdb4",
   "metadata": {},
   "outputs": [
    {
     "data": {
      "text/plain": [
       "count           293\n",
       "unique          127\n",
       "top       1,000,000\n",
       "freq             31\n",
       "Name: Amount (In USD), dtype: object"
      ]
     },
     "execution_count": 21,
     "metadata": {},
     "output_type": "execute_result"
    }
   ],
   "source": [
    "startup_state_gdp['Amount (In USD)'].describe()"
   ]
  },
  {
   "cell_type": "code",
   "execution_count": 22,
   "id": "5a749942",
   "metadata": {},
   "outputs": [
    {
     "data": {
      "text/plain": [
       "count    495.000000\n",
       "mean      12.478788\n",
       "std        2.500011\n",
       "min        3.000000\n",
       "25%       12.000000\n",
       "50%       12.000000\n",
       "75%       12.000000\n",
       "max       25.000000\n",
       "Name: Rank, dtype: float64"
      ]
     },
     "execution_count": 22,
     "metadata": {},
     "output_type": "execute_result"
    }
   ],
   "source": [
    "startup_state_gdp['Rank'].describe()"
   ]
  },
  {
   "cell_type": "code",
   "execution_count": 23,
   "id": "a7cbe29b",
   "metadata": {},
   "outputs": [
    {
     "data": {
      "text/plain": [
       "count    495.000000\n",
       "mean     113.534770\n",
       "std       23.307769\n",
       "min        6.397000\n",
       "25%      117.703000\n",
       "50%      117.703000\n",
       "75%      117.703000\n",
       "max      240.726000\n",
       "Name: GDP, dtype: float64"
      ]
     },
     "execution_count": 23,
     "metadata": {},
     "output_type": "execute_result"
    }
   ],
   "source": [
    "startup_state_gdp['GDP'].describe()"
   ]
  },
  {
   "cell_type": "markdown",
   "id": "b976721a",
   "metadata": {},
   "source": [
    "Finding Null data"
   ]
  },
  {
   "cell_type": "code",
   "execution_count": 24,
   "id": "5e54a22a",
   "metadata": {},
   "outputs": [
    {
     "data": {
      "text/plain": [
       "False"
      ]
     },
     "execution_count": 24,
     "metadata": {},
     "output_type": "execute_result"
    }
   ],
   "source": [
    "\n",
    "startup_state_gdp['Date'].isnull().values.any()"
   ]
  },
  {
   "cell_type": "code",
   "execution_count": 25,
   "id": "641985fa",
   "metadata": {},
   "outputs": [
    {
     "data": {
      "text/plain": [
       "False"
      ]
     },
     "execution_count": 25,
     "metadata": {},
     "output_type": "execute_result"
    }
   ],
   "source": [
    "startup_state_gdp['GDP'].isnull().values.any()"
   ]
  },
  {
   "cell_type": "code",
   "execution_count": 26,
   "id": "68927e09",
   "metadata": {},
   "outputs": [
    {
     "data": {
      "text/plain": [
       "False"
      ]
     },
     "execution_count": 26,
     "metadata": {},
     "output_type": "execute_result"
    }
   ],
   "source": [
    "startup_state_gdp['Industry'].isnull().values.any()"
   ]
  },
  {
   "cell_type": "code",
   "execution_count": 27,
   "id": "907012fc",
   "metadata": {},
   "outputs": [
    {
     "data": {
      "text/plain": [
       "False"
      ]
     },
     "execution_count": 27,
     "metadata": {},
     "output_type": "execute_result"
    }
   ],
   "source": [
    "startup_state_gdp['Startup Name'].isnull().values.any()"
   ]
  },
  {
   "cell_type": "code",
   "execution_count": 28,
   "id": "544e4803",
   "metadata": {},
   "outputs": [
    {
     "data": {
      "text/plain": [
       "True"
      ]
     },
     "execution_count": 28,
     "metadata": {},
     "output_type": "execute_result"
    }
   ],
   "source": [
    "startup_state_gdp['Amount (In USD)'].isnull().values.any()"
   ]
  },
  {
   "cell_type": "code",
   "execution_count": 29,
   "id": "1a84d00e",
   "metadata": {},
   "outputs": [
    {
     "data": {
      "text/plain": [
       "<bound method Series.dropna of 0           22,500\n",
       "1           25,000\n",
       "2           30,000\n",
       "3           30,000\n",
       "4           30,000\n",
       "          ...     \n",
       "490            NaN\n",
       "491            NaN\n",
       "492    1,55,00,000\n",
       "493      35,84,000\n",
       "494            NaN\n",
       "Name: Amount (In USD), Length: 495, dtype: object>"
      ]
     },
     "execution_count": 29,
     "metadata": {},
     "output_type": "execute_result"
    }
   ],
   "source": [
    "startup_state_gdp['Amount (In USD)'].dropna"
   ]
  },
  {
   "cell_type": "markdown",
   "id": "3c13a838",
   "metadata": {},
   "source": [
    "Finding the percentage of Which states had the most funded start-ups and which industries they were in."
   ]
  },
  {
   "cell_type": "code",
   "execution_count": 30,
   "id": "317c6ae8",
   "metadata": {},
   "outputs": [
    {
     "data": {
      "text/plain": [
       "Delhi            94.949495\n",
       "Chandigarh        2.222222\n",
       "Goa               2.020202\n",
       "Kerala            0.202020\n",
       "Haryana           0.202020\n",
       "Karnataka         0.202020\n",
       "Uttar Pradesh     0.202020\n",
       "Name: State, dtype: float64"
      ]
     },
     "execution_count": 30,
     "metadata": {},
     "output_type": "execute_result"
    }
   ],
   "source": [
    "\n",
    "startup_state_gdp['State'].value_counts(normalize=True)*100"
   ]
  },
  {
   "cell_type": "code",
   "execution_count": 31,
   "id": "cf5f0a53",
   "metadata": {},
   "outputs": [
    {
     "data": {
      "text/plain": [
       "Consumer Internet                         31.313131\n",
       "ECommerce                                 13.535354\n",
       "Technology                                12.929293\n",
       "Healthcare                                 3.030303\n",
       "Food & Beverage                            1.414141\n",
       "                                            ...    \n",
       "Online content platform for women          0.202020\n",
       "Premium Beverages                          0.202020\n",
       "Digital Healthcare                         0.202020\n",
       "Logistics Service Provider Marketplace     0.202020\n",
       "Transportation                             0.202020\n",
       "Name: Industry, Length: 170, dtype: float64"
      ]
     },
     "execution_count": 31,
     "metadata": {},
     "output_type": "execute_result"
    }
   ],
   "source": [
    "startup_state_gdp['Industry'].value_counts(normalize=True)*100"
   ]
  },
  {
   "cell_type": "code",
   "execution_count": 32,
   "id": "2b61baf4",
   "metadata": {},
   "outputs": [
    {
     "data": {
      "text/plain": [
       "1,000,000    31\n",
       "100,000      16\n",
       "500,000      13\n",
       "5,000,000    12\n",
       "2,000,000    12\n",
       "             ..\n",
       "443,000       1\n",
       "441,000       1\n",
       "376,000       1\n",
       "375,000       1\n",
       "35,84,000     1\n",
       "Name: Amount (In USD), Length: 127, dtype: int64"
      ]
     },
     "execution_count": 32,
     "metadata": {},
     "output_type": "execute_result"
    }
   ],
   "source": [
    "startup_state_gdp['Amount (In USD)'].value_counts()"
   ]
  },
  {
   "cell_type": "markdown",
   "id": "2431c9b6",
   "metadata": {},
   "source": [
    "Mean, Median, Mode of my new data set"
   ]
  },
  {
   "cell_type": "code",
   "execution_count": 34,
   "id": "1a3986a6",
   "metadata": {},
   "outputs": [
    {
     "name": "stderr",
     "output_type": "stream",
     "text": [
      "C:\\Users\\ptlon\\AppData\\Local\\Temp/ipykernel_17568/422551189.py:1: FutureWarning: Dropping of nuisance columns in DataFrame reductions (with 'numeric_only=None') is deprecated; in a future version this will raise TypeError.  Select only valid columns before calling the reduction.\n",
      "  startup_state_gdp.mean()\n"
     ]
    },
    {
     "data": {
      "text/plain": [
       "Rank     12.478788\n",
       "GDP     113.534770\n",
       "dtype: float64"
      ]
     },
     "execution_count": 34,
     "metadata": {},
     "output_type": "execute_result"
    }
   ],
   "source": [
    "startup_state_gdp.mean()"
   ]
  },
  {
   "cell_type": "code",
   "execution_count": 35,
   "id": "8f065e54",
   "metadata": {},
   "outputs": [
    {
     "name": "stderr",
     "output_type": "stream",
     "text": [
      "C:\\Users\\ptlon\\AppData\\Local\\Temp/ipykernel_17568/2576694538.py:1: FutureWarning: Dropping of nuisance columns in DataFrame reductions (with 'numeric_only=None') is deprecated; in a future version this will raise TypeError.  Select only valid columns before calling the reduction.\n",
      "  startup_state_gdp.median()\n"
     ]
    },
    {
     "data": {
      "text/plain": [
       "Rank     12.000\n",
       "GDP     117.703\n",
       "dtype: float64"
      ]
     },
     "execution_count": 35,
     "metadata": {},
     "output_type": "execute_result"
    }
   ],
   "source": [
    "startup_state_gdp.median()"
   ]
  },
  {
   "cell_type": "code",
   "execution_count": 36,
   "id": "382aa319",
   "metadata": {},
   "outputs": [
    {
     "data": {
      "text/html": [
       "<div>\n",
       "<style scoped>\n",
       "    .dataframe tbody tr th:only-of-type {\n",
       "        vertical-align: middle;\n",
       "    }\n",
       "\n",
       "    .dataframe tbody tr th {\n",
       "        vertical-align: top;\n",
       "    }\n",
       "\n",
       "    .dataframe thead th {\n",
       "        text-align: right;\n",
       "    }\n",
       "</style>\n",
       "<table border=\"1\" class=\"dataframe\">\n",
       "  <thead>\n",
       "    <tr style=\"text-align: right;\">\n",
       "      <th></th>\n",
       "      <th>Date</th>\n",
       "      <th>Startup Name</th>\n",
       "      <th>Industry</th>\n",
       "      <th>Sub-Vertical</th>\n",
       "      <th>State</th>\n",
       "      <th>Investors’ Name</th>\n",
       "      <th>Investment Type</th>\n",
       "      <th>Amount (In USD)</th>\n",
       "      <th>Rank</th>\n",
       "      <th>GDP</th>\n",
       "    </tr>\n",
       "  </thead>\n",
       "  <tbody>\n",
       "    <tr>\n",
       "      <th>0</th>\n",
       "      <td>2/22/2016</td>\n",
       "      <td>Jugnoo</td>\n",
       "      <td>Consumer Internet</td>\n",
       "      <td>Education/E-learning</td>\n",
       "      <td>Delhi</td>\n",
       "      <td>Indian Angel Network</td>\n",
       "      <td>Seed Funding</td>\n",
       "      <td>1,000,000</td>\n",
       "      <td>12.0</td>\n",
       "      <td>117.703</td>\n",
       "    </tr>\n",
       "    <tr>\n",
       "      <th>1</th>\n",
       "      <td>6/1/2015</td>\n",
       "      <td>NaN</td>\n",
       "      <td>NaN</td>\n",
       "      <td>NaN</td>\n",
       "      <td>NaN</td>\n",
       "      <td>NaN</td>\n",
       "      <td>NaN</td>\n",
       "      <td>NaN</td>\n",
       "      <td>NaN</td>\n",
       "      <td>NaN</td>\n",
       "    </tr>\n",
       "  </tbody>\n",
       "</table>\n",
       "</div>"
      ],
      "text/plain": [
       "        Date Startup Name           Industry          Sub-Vertical  State  \\\n",
       "0  2/22/2016       Jugnoo  Consumer Internet  Education/E-learning  Delhi   \n",
       "1   6/1/2015          NaN                NaN                   NaN    NaN   \n",
       "\n",
       "        Investors’ Name Investment Type Amount (In USD)  Rank      GDP  \n",
       "0  Indian Angel Network    Seed Funding       1,000,000  12.0  117.703  \n",
       "1                   NaN             NaN             NaN   NaN      NaN  "
      ]
     },
     "execution_count": 36,
     "metadata": {},
     "output_type": "execute_result"
    }
   ],
   "source": [
    "startup_state_gdp.mode()"
   ]
  },
  {
   "cell_type": "code",
   "execution_count": 37,
   "id": "c5318ba2",
   "metadata": {},
   "outputs": [
    {
     "name": "stderr",
     "output_type": "stream",
     "text": [
      "C:\\Users\\ptlon\\AppData\\Local\\Temp/ipykernel_17568/926341161.py:1: FutureWarning: Dropping of nuisance columns in DataFrame reductions (with 'numeric_only=None') is deprecated; in a future version this will raise TypeError.  Select only valid columns before calling the reduction.\n",
      "  startup_state_gdp.std()\n"
     ]
    },
    {
     "data": {
      "text/plain": [
       "Rank     2.500011\n",
       "GDP     23.307769\n",
       "dtype: float64"
      ]
     },
     "execution_count": 37,
     "metadata": {},
     "output_type": "execute_result"
    }
   ],
   "source": [
    "startup_state_gdp.std()"
   ]
  },
  {
   "cell_type": "code",
   "execution_count": 38,
   "id": "1224727e",
   "metadata": {},
   "outputs": [],
   "source": [
    "#saving my work"
   ]
  },
  {
   "cell_type": "code",
   "execution_count": 39,
   "id": "57be279f",
   "metadata": {},
   "outputs": [],
   "source": [
    "startup_state_gdp.to_excel(\"startup_state_gdp.xlsx\",\n",
    "             sheet_name='Sheet_name_1') "
   ]
  },
  {
   "cell_type": "markdown",
   "id": "129d9919",
   "metadata": {},
   "source": [
    "After Exploring both sets of Data - GDP and Indian start-ups by state, I was able to merge the data on the 'State' column, which both data sets contained. From there I was able to do more data wrangling by creating a new data set, and, exploring that data set."
   ]
  }
 ],
 "metadata": {
  "kernelspec": {
   "display_name": "Python 3 (ipykernel)",
   "language": "python",
   "name": "python3"
  },
  "language_info": {
   "codemirror_mode": {
    "name": "ipython",
    "version": 3
   },
   "file_extension": ".py",
   "mimetype": "text/x-python",
   "name": "python",
   "nbconvert_exporter": "python",
   "pygments_lexer": "ipython3",
   "version": "3.9.7"
  }
 },
 "nbformat": 4,
 "nbformat_minor": 5
}
